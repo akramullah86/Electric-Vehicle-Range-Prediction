{
 "cells": [
  {
   "cell_type": "markdown",
   "id": "d5081fcc-2e43-4a29-bfd6-2477c6304ea4",
   "metadata": {},
   "source": [
    "## DATASET DETIAL\n",
    "**VIN (1-10)** : `The Vehicle Identification Number (VIN) is a unique code used to identify individual motor vehicles.`\n",
    "\n",
    "**County:** `The county where the vehicle is registered.`\n",
    "\n",
    "**City:** `The city where the vehicle is registered.`\n",
    "\n",
    "**State:** `The state where the vehicle is registered.`\n",
    "\n",
    "**Postal Code:** `The postal code for the vehicle's registration location.`\n",
    "\n",
    "**Model Year:** `The year the vehicle model was manufactured.`\n",
    "\n",
    "**Make:** `The manufacturer of the vehicle.`\n",
    "\n",
    "**Model:** `The specific model of the vehicle.`\n",
    "\n",
    "**Electric Vehicle Type:** `The type of electric vehicle, e.g., Battery Electric Vehicle (BEV), Plug-in Hybrid Electric Vehicle (PHEV).`\n",
    "\n",
    "**Clean Alternative Fuel Vehicle (CAFV) Eligibility:** `Indicates if the vehicle is eligible for clean alternative fuel incentives.`\n",
    "\n",
    "**Electric Range:** `The range the electric vehicle can travel on a single charge.`"
   ]
  },
  {
   "cell_type": "markdown",
   "id": "8f46886c-aa5a-4770-8d12-12b653281e5b",
   "metadata": {},
   "source": [
    "## Importing Libraries"
   ]
  },
  {
   "cell_type": "code",
   "execution_count": 697,
   "id": "90f96fc5-a1fa-41be-a3d3-13e5b0d2db8d",
   "metadata": {},
   "outputs": [],
   "source": [
    "import os\n",
    "\n",
    "import numpy as np\n",
    "\n",
    "import pandas as pd \n",
    "\n",
    "import matplotlib.pyplot as plt\n",
    "\n",
    "from sklearn.model_selection import train_test_split"
   ]
  },
  {
   "cell_type": "markdown",
   "id": "9cada6b3-4450-4e61-ba2b-b7760f973625",
   "metadata": {},
   "source": [
    "## Reading Data"
   ]
  },
  {
   "cell_type": "code",
   "execution_count": 495,
   "id": "87bbbf4f-82c5-40d1-9231-c45829ecf373",
   "metadata": {},
   "outputs": [],
   "source": [
    "# Project directory represent the project folder\n",
    "PROJECT_DIR = r\"E:\\Electirc Viechels\"\n",
    "# this line of code access data if we have a folder name data\n",
    "DATA_DIR = \"data\""
   ]
  },
  {
   "cell_type": "code",
   "execution_count": 496,
   "id": "0eab45af-4253-45dd-98d5-596aeb78d8a2",
   "metadata": {},
   "outputs": [],
   "source": [
    "# This function access the data \n",
    "def get_data(name):\n",
    "    file_name = f\"{name}.csv\"\n",
    "    file_path = os.path.join(PROJECT_DIR,DATA_DIR,file_name)\n",
    "    return pd.read_csv(file_path)"
   ]
  },
  {
   "cell_type": "code",
   "execution_count": 497,
   "id": "66a9d342-d3f0-487d-9f03-5e8487254348",
   "metadata": {},
   "outputs": [
    {
     "data": {
      "text/html": [
       "<div>\n",
       "<style scoped>\n",
       "    .dataframe tbody tr th:only-of-type {\n",
       "        vertical-align: middle;\n",
       "    }\n",
       "\n",
       "    .dataframe tbody tr th {\n",
       "        vertical-align: top;\n",
       "    }\n",
       "\n",
       "    .dataframe thead th {\n",
       "        text-align: right;\n",
       "    }\n",
       "</style>\n",
       "<table border=\"1\" class=\"dataframe\">\n",
       "  <thead>\n",
       "    <tr style=\"text-align: right;\">\n",
       "      <th></th>\n",
       "      <th>VIN (1-10)</th>\n",
       "      <th>County</th>\n",
       "      <th>City</th>\n",
       "      <th>State</th>\n",
       "      <th>Postal Code</th>\n",
       "      <th>Model Year</th>\n",
       "      <th>Make</th>\n",
       "      <th>Model</th>\n",
       "      <th>Electric Vehicle Type</th>\n",
       "      <th>Clean Alternative Fuel Vehicle (CAFV) Eligibility</th>\n",
       "      <th>Electric Range</th>\n",
       "      <th>Base MSRP</th>\n",
       "      <th>Legislative District</th>\n",
       "      <th>DOL Vehicle ID</th>\n",
       "      <th>Vehicle Location</th>\n",
       "      <th>Electric Utility</th>\n",
       "      <th>2020 Census Tract</th>\n",
       "    </tr>\n",
       "  </thead>\n",
       "  <tbody>\n",
       "    <tr>\n",
       "      <th>0</th>\n",
       "      <td>5YJSA1E22K</td>\n",
       "      <td>King</td>\n",
       "      <td>Seattle</td>\n",
       "      <td>WA</td>\n",
       "      <td>98112.0</td>\n",
       "      <td>2019</td>\n",
       "      <td>TESLA</td>\n",
       "      <td>MODEL S</td>\n",
       "      <td>Battery Electric Vehicle (BEV)</td>\n",
       "      <td>Clean Alternative Fuel Vehicle Eligible</td>\n",
       "      <td>270</td>\n",
       "      <td>0</td>\n",
       "      <td>43.0</td>\n",
       "      <td>202233958</td>\n",
       "      <td>POINT (-122.300312 47.629782)</td>\n",
       "      <td>CITY OF SEATTLE - (WA)|CITY OF TACOMA - (WA)</td>\n",
       "      <td>5.303301e+10</td>\n",
       "    </tr>\n",
       "    <tr>\n",
       "      <th>1</th>\n",
       "      <td>3MW39FS05R</td>\n",
       "      <td>Yakima</td>\n",
       "      <td>Zillah</td>\n",
       "      <td>WA</td>\n",
       "      <td>98953.0</td>\n",
       "      <td>2024</td>\n",
       "      <td>BMW</td>\n",
       "      <td>330E</td>\n",
       "      <td>Plug-in Hybrid Electric Vehicle (PHEV)</td>\n",
       "      <td>Not eligible due to low battery range</td>\n",
       "      <td>20</td>\n",
       "      <td>0</td>\n",
       "      <td>15.0</td>\n",
       "      <td>264425178</td>\n",
       "      <td>POINT (-120.2658133 46.4063477)</td>\n",
       "      <td>PACIFICORP</td>\n",
       "      <td>5.307700e+10</td>\n",
       "    </tr>\n",
       "    <tr>\n",
       "      <th>2</th>\n",
       "      <td>1N4AZ0CP0F</td>\n",
       "      <td>King</td>\n",
       "      <td>Kent</td>\n",
       "      <td>WA</td>\n",
       "      <td>98031.0</td>\n",
       "      <td>2015</td>\n",
       "      <td>NISSAN</td>\n",
       "      <td>LEAF</td>\n",
       "      <td>Battery Electric Vehicle (BEV)</td>\n",
       "      <td>Clean Alternative Fuel Vehicle Eligible</td>\n",
       "      <td>84</td>\n",
       "      <td>0</td>\n",
       "      <td>11.0</td>\n",
       "      <td>114962025</td>\n",
       "      <td>POINT (-122.201564 47.402358)</td>\n",
       "      <td>PUGET SOUND ENERGY INC||CITY OF TACOMA - (WA)</td>\n",
       "      <td>5.303303e+10</td>\n",
       "    </tr>\n",
       "    <tr>\n",
       "      <th>3</th>\n",
       "      <td>5YJSA1H20F</td>\n",
       "      <td>Snohomish</td>\n",
       "      <td>Bothell</td>\n",
       "      <td>WA</td>\n",
       "      <td>98012.0</td>\n",
       "      <td>2015</td>\n",
       "      <td>TESLA</td>\n",
       "      <td>MODEL S</td>\n",
       "      <td>Battery Electric Vehicle (BEV)</td>\n",
       "      <td>Clean Alternative Fuel Vehicle Eligible</td>\n",
       "      <td>208</td>\n",
       "      <td>0</td>\n",
       "      <td>1.0</td>\n",
       "      <td>232724670</td>\n",
       "      <td>POINT (-122.206146 47.839957)</td>\n",
       "      <td>PUGET SOUND ENERGY INC</td>\n",
       "      <td>5.306105e+10</td>\n",
       "    </tr>\n",
       "    <tr>\n",
       "      <th>4</th>\n",
       "      <td>JTMAB3FV1N</td>\n",
       "      <td>Yakima</td>\n",
       "      <td>Yakima</td>\n",
       "      <td>WA</td>\n",
       "      <td>98908.0</td>\n",
       "      <td>2022</td>\n",
       "      <td>TOYOTA</td>\n",
       "      <td>RAV4 PRIME</td>\n",
       "      <td>Plug-in Hybrid Electric Vehicle (PHEV)</td>\n",
       "      <td>Clean Alternative Fuel Vehicle Eligible</td>\n",
       "      <td>42</td>\n",
       "      <td>0</td>\n",
       "      <td>14.0</td>\n",
       "      <td>221023589</td>\n",
       "      <td>POINT (-120.611068 46.596645)</td>\n",
       "      <td>PACIFICORP</td>\n",
       "      <td>5.307700e+10</td>\n",
       "    </tr>\n",
       "    <tr>\n",
       "      <th>...</th>\n",
       "      <td>...</td>\n",
       "      <td>...</td>\n",
       "      <td>...</td>\n",
       "      <td>...</td>\n",
       "      <td>...</td>\n",
       "      <td>...</td>\n",
       "      <td>...</td>\n",
       "      <td>...</td>\n",
       "      <td>...</td>\n",
       "      <td>...</td>\n",
       "      <td>...</td>\n",
       "      <td>...</td>\n",
       "      <td>...</td>\n",
       "      <td>...</td>\n",
       "      <td>...</td>\n",
       "      <td>...</td>\n",
       "      <td>...</td>\n",
       "    </tr>\n",
       "    <tr>\n",
       "      <th>191402</th>\n",
       "      <td>5YJ3E1EA0K</td>\n",
       "      <td>Pierce</td>\n",
       "      <td>Sumner</td>\n",
       "      <td>WA</td>\n",
       "      <td>98390.0</td>\n",
       "      <td>2019</td>\n",
       "      <td>TESLA</td>\n",
       "      <td>MODEL 3</td>\n",
       "      <td>Battery Electric Vehicle (BEV)</td>\n",
       "      <td>Clean Alternative Fuel Vehicle Eligible</td>\n",
       "      <td>220</td>\n",
       "      <td>0</td>\n",
       "      <td>31.0</td>\n",
       "      <td>314927896</td>\n",
       "      <td>POINT (-122.2337855 47.2055969)</td>\n",
       "      <td>PUGET SOUND ENERGY INC||CITY OF TACOMA - (WA)</td>\n",
       "      <td>5.305307e+10</td>\n",
       "    </tr>\n",
       "    <tr>\n",
       "      <th>191403</th>\n",
       "      <td>JN1BF0BA7P</td>\n",
       "      <td>Pierce</td>\n",
       "      <td>Wilkeson</td>\n",
       "      <td>WA</td>\n",
       "      <td>98396.0</td>\n",
       "      <td>2023</td>\n",
       "      <td>NISSAN</td>\n",
       "      <td>ARIYA</td>\n",
       "      <td>Battery Electric Vehicle (BEV)</td>\n",
       "      <td>Eligibility unknown as battery range has not b...</td>\n",
       "      <td>0</td>\n",
       "      <td>0</td>\n",
       "      <td>31.0</td>\n",
       "      <td>236213120</td>\n",
       "      <td>POINT (-122.0478543 47.1075591)</td>\n",
       "      <td>PUGET SOUND ENERGY INC||CITY OF TACOMA - (WA)</td>\n",
       "      <td>5.305307e+10</td>\n",
       "    </tr>\n",
       "    <tr>\n",
       "      <th>191404</th>\n",
       "      <td>7SAYGDEE4R</td>\n",
       "      <td>King</td>\n",
       "      <td>Fall City</td>\n",
       "      <td>WA</td>\n",
       "      <td>98024.0</td>\n",
       "      <td>2024</td>\n",
       "      <td>TESLA</td>\n",
       "      <td>MODEL Y</td>\n",
       "      <td>Battery Electric Vehicle (BEV)</td>\n",
       "      <td>Eligibility unknown as battery range has not b...</td>\n",
       "      <td>0</td>\n",
       "      <td>0</td>\n",
       "      <td>5.0</td>\n",
       "      <td>261335896</td>\n",
       "      <td>POINT (-121.903093 47.567116)</td>\n",
       "      <td>PUGET SOUND ENERGY INC||CITY OF TACOMA - (WA)</td>\n",
       "      <td>5.303303e+10</td>\n",
       "    </tr>\n",
       "    <tr>\n",
       "      <th>191405</th>\n",
       "      <td>7SAXCBE65N</td>\n",
       "      <td>Grays Harbor</td>\n",
       "      <td>Aberdeen</td>\n",
       "      <td>WA</td>\n",
       "      <td>98520.0</td>\n",
       "      <td>2022</td>\n",
       "      <td>TESLA</td>\n",
       "      <td>MODEL X</td>\n",
       "      <td>Battery Electric Vehicle (BEV)</td>\n",
       "      <td>Eligibility unknown as battery range has not b...</td>\n",
       "      <td>0</td>\n",
       "      <td>0</td>\n",
       "      <td>19.0</td>\n",
       "      <td>219273491</td>\n",
       "      <td>POINT (-123.807422 46.978243)</td>\n",
       "      <td>BONNEVILLE POWER ADMINISTRATION||PUD NO 1 OF G...</td>\n",
       "      <td>5.302700e+10</td>\n",
       "    </tr>\n",
       "    <tr>\n",
       "      <th>191406</th>\n",
       "      <td>7SAYGAEEXP</td>\n",
       "      <td>Benton</td>\n",
       "      <td>Richland</td>\n",
       "      <td>WA</td>\n",
       "      <td>99352.0</td>\n",
       "      <td>2023</td>\n",
       "      <td>TESLA</td>\n",
       "      <td>MODEL Y</td>\n",
       "      <td>Battery Electric Vehicle (BEV)</td>\n",
       "      <td>Eligibility unknown as battery range has not b...</td>\n",
       "      <td>0</td>\n",
       "      <td>0</td>\n",
       "      <td>8.0</td>\n",
       "      <td>233761440</td>\n",
       "      <td>POINT (-119.2958528 46.2421419)</td>\n",
       "      <td>BONNEVILLE POWER ADMINISTRATION||CITY OF RICHL...</td>\n",
       "      <td>5.300501e+10</td>\n",
       "    </tr>\n",
       "  </tbody>\n",
       "</table>\n",
       "<p>191407 rows × 17 columns</p>\n",
       "</div>"
      ],
      "text/plain": [
       "        VIN (1-10)        County       City State  Postal Code  Model Year  \\\n",
       "0       5YJSA1E22K          King    Seattle    WA      98112.0        2019   \n",
       "1       3MW39FS05R        Yakima     Zillah    WA      98953.0        2024   \n",
       "2       1N4AZ0CP0F          King       Kent    WA      98031.0        2015   \n",
       "3       5YJSA1H20F     Snohomish    Bothell    WA      98012.0        2015   \n",
       "4       JTMAB3FV1N        Yakima     Yakima    WA      98908.0        2022   \n",
       "...            ...           ...        ...   ...          ...         ...   \n",
       "191402  5YJ3E1EA0K        Pierce     Sumner    WA      98390.0        2019   \n",
       "191403  JN1BF0BA7P        Pierce   Wilkeson    WA      98396.0        2023   \n",
       "191404  7SAYGDEE4R          King  Fall City    WA      98024.0        2024   \n",
       "191405  7SAXCBE65N  Grays Harbor   Aberdeen    WA      98520.0        2022   \n",
       "191406  7SAYGAEEXP        Benton   Richland    WA      99352.0        2023   \n",
       "\n",
       "          Make       Model                   Electric Vehicle Type  \\\n",
       "0        TESLA     MODEL S          Battery Electric Vehicle (BEV)   \n",
       "1          BMW        330E  Plug-in Hybrid Electric Vehicle (PHEV)   \n",
       "2       NISSAN        LEAF          Battery Electric Vehicle (BEV)   \n",
       "3        TESLA     MODEL S          Battery Electric Vehicle (BEV)   \n",
       "4       TOYOTA  RAV4 PRIME  Plug-in Hybrid Electric Vehicle (PHEV)   \n",
       "...        ...         ...                                     ...   \n",
       "191402   TESLA     MODEL 3          Battery Electric Vehicle (BEV)   \n",
       "191403  NISSAN       ARIYA          Battery Electric Vehicle (BEV)   \n",
       "191404   TESLA     MODEL Y          Battery Electric Vehicle (BEV)   \n",
       "191405   TESLA     MODEL X          Battery Electric Vehicle (BEV)   \n",
       "191406   TESLA     MODEL Y          Battery Electric Vehicle (BEV)   \n",
       "\n",
       "        Clean Alternative Fuel Vehicle (CAFV) Eligibility  Electric Range  \\\n",
       "0                 Clean Alternative Fuel Vehicle Eligible             270   \n",
       "1                   Not eligible due to low battery range              20   \n",
       "2                 Clean Alternative Fuel Vehicle Eligible              84   \n",
       "3                 Clean Alternative Fuel Vehicle Eligible             208   \n",
       "4                 Clean Alternative Fuel Vehicle Eligible              42   \n",
       "...                                                   ...             ...   \n",
       "191402            Clean Alternative Fuel Vehicle Eligible             220   \n",
       "191403  Eligibility unknown as battery range has not b...               0   \n",
       "191404  Eligibility unknown as battery range has not b...               0   \n",
       "191405  Eligibility unknown as battery range has not b...               0   \n",
       "191406  Eligibility unknown as battery range has not b...               0   \n",
       "\n",
       "        Base MSRP  Legislative District  DOL Vehicle ID  \\\n",
       "0               0                  43.0       202233958   \n",
       "1               0                  15.0       264425178   \n",
       "2               0                  11.0       114962025   \n",
       "3               0                   1.0       232724670   \n",
       "4               0                  14.0       221023589   \n",
       "...           ...                   ...             ...   \n",
       "191402          0                  31.0       314927896   \n",
       "191403          0                  31.0       236213120   \n",
       "191404          0                   5.0       261335896   \n",
       "191405          0                  19.0       219273491   \n",
       "191406          0                   8.0       233761440   \n",
       "\n",
       "                       Vehicle Location  \\\n",
       "0         POINT (-122.300312 47.629782)   \n",
       "1       POINT (-120.2658133 46.4063477)   \n",
       "2         POINT (-122.201564 47.402358)   \n",
       "3         POINT (-122.206146 47.839957)   \n",
       "4         POINT (-120.611068 46.596645)   \n",
       "...                                 ...   \n",
       "191402  POINT (-122.2337855 47.2055969)   \n",
       "191403  POINT (-122.0478543 47.1075591)   \n",
       "191404    POINT (-121.903093 47.567116)   \n",
       "191405    POINT (-123.807422 46.978243)   \n",
       "191406  POINT (-119.2958528 46.2421419)   \n",
       "\n",
       "                                         Electric Utility  2020 Census Tract  \n",
       "0            CITY OF SEATTLE - (WA)|CITY OF TACOMA - (WA)       5.303301e+10  \n",
       "1                                              PACIFICORP       5.307700e+10  \n",
       "2           PUGET SOUND ENERGY INC||CITY OF TACOMA - (WA)       5.303303e+10  \n",
       "3                                  PUGET SOUND ENERGY INC       5.306105e+10  \n",
       "4                                              PACIFICORP       5.307700e+10  \n",
       "...                                                   ...                ...  \n",
       "191402      PUGET SOUND ENERGY INC||CITY OF TACOMA - (WA)       5.305307e+10  \n",
       "191403      PUGET SOUND ENERGY INC||CITY OF TACOMA - (WA)       5.305307e+10  \n",
       "191404      PUGET SOUND ENERGY INC||CITY OF TACOMA - (WA)       5.303303e+10  \n",
       "191405  BONNEVILLE POWER ADMINISTRATION||PUD NO 1 OF G...       5.302700e+10  \n",
       "191406  BONNEVILLE POWER ADMINISTRATION||CITY OF RICHL...       5.300501e+10  \n",
       "\n",
       "[191407 rows x 17 columns]"
      ]
     },
     "execution_count": 497,
     "metadata": {},
     "output_type": "execute_result"
    }
   ],
   "source": [
    "veichels = get_data('veichel')\n",
    "veichels"
   ]
  },
  {
   "cell_type": "code",
   "execution_count": 498,
   "id": "eb0dfdfa-fdc7-4e66-9390-ca32a1ec4aea",
   "metadata": {},
   "outputs": [
    {
     "name": "stdout",
     "output_type": "stream",
     "text": [
      "<class 'pandas.core.frame.DataFrame'>\n",
      "RangeIndex: 191407 entries, 0 to 191406\n",
      "Data columns (total 17 columns):\n",
      " #   Column                                             Non-Null Count   Dtype  \n",
      "---  ------                                             --------------   -----  \n",
      " 0   VIN (1-10)                                         191407 non-null  object \n",
      " 1   County                                             191403 non-null  object \n",
      " 2   City                                               191403 non-null  object \n",
      " 3   State                                              191407 non-null  object \n",
      " 4   Postal Code                                        191403 non-null  float64\n",
      " 5   Model Year                                         191407 non-null  int64  \n",
      " 6   Make                                               191407 non-null  object \n",
      " 7   Model                                              191407 non-null  object \n",
      " 8   Electric Vehicle Type                              191407 non-null  object \n",
      " 9   Clean Alternative Fuel Vehicle (CAFV) Eligibility  191407 non-null  object \n",
      " 10  Electric Range                                     191407 non-null  int64  \n",
      " 11  Base MSRP                                          191407 non-null  int64  \n",
      " 12  Legislative District                               190993 non-null  float64\n",
      " 13  DOL Vehicle ID                                     191407 non-null  int64  \n",
      " 14  Vehicle Location                                   191399 non-null  object \n",
      " 15  Electric Utility                                   191403 non-null  object \n",
      " 16  2020 Census Tract                                  191403 non-null  float64\n",
      "dtypes: float64(3), int64(4), object(10)\n",
      "memory usage: 24.8+ MB\n"
     ]
    }
   ],
   "source": [
    "veichels.info()"
   ]
  },
  {
   "cell_type": "markdown",
   "id": "6232ee18-0212-46a7-87da-c0c5aea2b051",
   "metadata": {},
   "source": [
    "## Initial Observations\n",
    "\n",
    " - `Dataset Contain 191407 and 17 columns `\n",
    " - `Some features have inopropriate data types`\n",
    " - `Some features have missing values`\n",
    " - `We need to remove some extra columns`\n",
    " - `There is no duplicate values`\n",
    " - `Model Year column data type should be changed to datetime data type`"
   ]
  },
  {
   "cell_type": "code",
   "execution_count": 500,
   "id": "217fb3e8-1574-4701-bb42-d6f70a78bd31",
   "metadata": {},
   "outputs": [
    {
     "data": {
      "text/plain": [
       "VIN (1-10)                                             0\n",
       "County                                                 4\n",
       "City                                                   4\n",
       "State                                                  0\n",
       "Postal Code                                            4\n",
       "Model Year                                             0\n",
       "Make                                                   0\n",
       "Model                                                  0\n",
       "Electric Vehicle Type                                  0\n",
       "Clean Alternative Fuel Vehicle (CAFV) Eligibility      0\n",
       "Electric Range                                         0\n",
       "Base MSRP                                              0\n",
       "Legislative District                                 414\n",
       "DOL Vehicle ID                                         0\n",
       "Vehicle Location                                       8\n",
       "Electric Utility                                       4\n",
       "2020 Census Tract                                      4\n",
       "dtype: int64"
      ]
     },
     "execution_count": 500,
     "metadata": {},
     "output_type": "execute_result"
    }
   ],
   "source": [
    "# Now we check missing values\n",
    "veichels.isnull().sum()"
   ]
  },
  {
   "cell_type": "code",
   "execution_count": 501,
   "id": "a4a82113-b77f-4a13-9b2b-c5d519507297",
   "metadata": {},
   "outputs": [
    {
     "data": {
      "text/plain": [
       "0"
      ]
     },
     "execution_count": 501,
     "metadata": {},
     "output_type": "execute_result"
    }
   ],
   "source": [
    "# Now we check duplicates\n",
    "veichels.duplicated().sum()"
   ]
  },
  {
   "cell_type": "markdown",
   "id": "52db24e4-0a6a-4e65-a3d8-58453a7edd2c",
   "metadata": {},
   "source": [
    "## Preliminary Analysis"
   ]
  },
  {
   "cell_type": "code",
   "execution_count": 503,
   "id": "7f40c00e-18f3-4278-817f-46a23a40d19e",
   "metadata": {},
   "outputs": [
    {
     "data": {
      "text/html": [
       "<div>\n",
       "<style scoped>\n",
       "    .dataframe tbody tr th:only-of-type {\n",
       "        vertical-align: middle;\n",
       "    }\n",
       "\n",
       "    .dataframe tbody tr th {\n",
       "        vertical-align: top;\n",
       "    }\n",
       "\n",
       "    .dataframe thead th {\n",
       "        text-align: right;\n",
       "    }\n",
       "</style>\n",
       "<table border=\"1\" class=\"dataframe\">\n",
       "  <thead>\n",
       "    <tr style=\"text-align: right;\">\n",
       "      <th></th>\n",
       "      <th>VIN (1-10)</th>\n",
       "      <th>County</th>\n",
       "      <th>City</th>\n",
       "      <th>State</th>\n",
       "      <th>Postal Code</th>\n",
       "      <th>Model Year</th>\n",
       "      <th>Make</th>\n",
       "      <th>Model</th>\n",
       "      <th>Electric Vehicle Type</th>\n",
       "      <th>Clean Alternative Fuel Vehicle (CAFV) Eligibility</th>\n",
       "      <th>Electric Range</th>\n",
       "      <th>Base MSRP</th>\n",
       "      <th>Legislative District</th>\n",
       "      <th>DOL Vehicle ID</th>\n",
       "      <th>Vehicle Location</th>\n",
       "      <th>Electric Utility</th>\n",
       "      <th>2020 Census Tract</th>\n",
       "    </tr>\n",
       "  </thead>\n",
       "  <tbody>\n",
       "    <tr>\n",
       "      <th>0</th>\n",
       "      <td>5YJSA1E22K</td>\n",
       "      <td>King</td>\n",
       "      <td>Seattle</td>\n",
       "      <td>WA</td>\n",
       "      <td>98112.0</td>\n",
       "      <td>2019</td>\n",
       "      <td>TESLA</td>\n",
       "      <td>MODEL S</td>\n",
       "      <td>Battery Electric Vehicle (BEV)</td>\n",
       "      <td>Clean Alternative Fuel Vehicle Eligible</td>\n",
       "      <td>270</td>\n",
       "      <td>0</td>\n",
       "      <td>43.0</td>\n",
       "      <td>202233958</td>\n",
       "      <td>POINT (-122.300312 47.629782)</td>\n",
       "      <td>CITY OF SEATTLE - (WA)|CITY OF TACOMA - (WA)</td>\n",
       "      <td>5.303301e+10</td>\n",
       "    </tr>\n",
       "    <tr>\n",
       "      <th>1</th>\n",
       "      <td>3MW39FS05R</td>\n",
       "      <td>Yakima</td>\n",
       "      <td>Zillah</td>\n",
       "      <td>WA</td>\n",
       "      <td>98953.0</td>\n",
       "      <td>2024</td>\n",
       "      <td>BMW</td>\n",
       "      <td>330E</td>\n",
       "      <td>Plug-in Hybrid Electric Vehicle (PHEV)</td>\n",
       "      <td>Not eligible due to low battery range</td>\n",
       "      <td>20</td>\n",
       "      <td>0</td>\n",
       "      <td>15.0</td>\n",
       "      <td>264425178</td>\n",
       "      <td>POINT (-120.2658133 46.4063477)</td>\n",
       "      <td>PACIFICORP</td>\n",
       "      <td>5.307700e+10</td>\n",
       "    </tr>\n",
       "    <tr>\n",
       "      <th>2</th>\n",
       "      <td>1N4AZ0CP0F</td>\n",
       "      <td>King</td>\n",
       "      <td>Kent</td>\n",
       "      <td>WA</td>\n",
       "      <td>98031.0</td>\n",
       "      <td>2015</td>\n",
       "      <td>NISSAN</td>\n",
       "      <td>LEAF</td>\n",
       "      <td>Battery Electric Vehicle (BEV)</td>\n",
       "      <td>Clean Alternative Fuel Vehicle Eligible</td>\n",
       "      <td>84</td>\n",
       "      <td>0</td>\n",
       "      <td>11.0</td>\n",
       "      <td>114962025</td>\n",
       "      <td>POINT (-122.201564 47.402358)</td>\n",
       "      <td>PUGET SOUND ENERGY INC||CITY OF TACOMA - (WA)</td>\n",
       "      <td>5.303303e+10</td>\n",
       "    </tr>\n",
       "    <tr>\n",
       "      <th>3</th>\n",
       "      <td>5YJSA1H20F</td>\n",
       "      <td>Snohomish</td>\n",
       "      <td>Bothell</td>\n",
       "      <td>WA</td>\n",
       "      <td>98012.0</td>\n",
       "      <td>2015</td>\n",
       "      <td>TESLA</td>\n",
       "      <td>MODEL S</td>\n",
       "      <td>Battery Electric Vehicle (BEV)</td>\n",
       "      <td>Clean Alternative Fuel Vehicle Eligible</td>\n",
       "      <td>208</td>\n",
       "      <td>0</td>\n",
       "      <td>1.0</td>\n",
       "      <td>232724670</td>\n",
       "      <td>POINT (-122.206146 47.839957)</td>\n",
       "      <td>PUGET SOUND ENERGY INC</td>\n",
       "      <td>5.306105e+10</td>\n",
       "    </tr>\n",
       "    <tr>\n",
       "      <th>4</th>\n",
       "      <td>JTMAB3FV1N</td>\n",
       "      <td>Yakima</td>\n",
       "      <td>Yakima</td>\n",
       "      <td>WA</td>\n",
       "      <td>98908.0</td>\n",
       "      <td>2022</td>\n",
       "      <td>TOYOTA</td>\n",
       "      <td>RAV4 PRIME</td>\n",
       "      <td>Plug-in Hybrid Electric Vehicle (PHEV)</td>\n",
       "      <td>Clean Alternative Fuel Vehicle Eligible</td>\n",
       "      <td>42</td>\n",
       "      <td>0</td>\n",
       "      <td>14.0</td>\n",
       "      <td>221023589</td>\n",
       "      <td>POINT (-120.611068 46.596645)</td>\n",
       "      <td>PACIFICORP</td>\n",
       "      <td>5.307700e+10</td>\n",
       "    </tr>\n",
       "  </tbody>\n",
       "</table>\n",
       "</div>"
      ],
      "text/plain": [
       "   VIN (1-10)     County     City State  Postal Code  Model Year    Make  \\\n",
       "0  5YJSA1E22K       King  Seattle    WA      98112.0        2019   TESLA   \n",
       "1  3MW39FS05R     Yakima   Zillah    WA      98953.0        2024     BMW   \n",
       "2  1N4AZ0CP0F       King     Kent    WA      98031.0        2015  NISSAN   \n",
       "3  5YJSA1H20F  Snohomish  Bothell    WA      98012.0        2015   TESLA   \n",
       "4  JTMAB3FV1N     Yakima   Yakima    WA      98908.0        2022  TOYOTA   \n",
       "\n",
       "        Model                   Electric Vehicle Type  \\\n",
       "0     MODEL S          Battery Electric Vehicle (BEV)   \n",
       "1        330E  Plug-in Hybrid Electric Vehicle (PHEV)   \n",
       "2        LEAF          Battery Electric Vehicle (BEV)   \n",
       "3     MODEL S          Battery Electric Vehicle (BEV)   \n",
       "4  RAV4 PRIME  Plug-in Hybrid Electric Vehicle (PHEV)   \n",
       "\n",
       "  Clean Alternative Fuel Vehicle (CAFV) Eligibility  Electric Range  \\\n",
       "0           Clean Alternative Fuel Vehicle Eligible             270   \n",
       "1             Not eligible due to low battery range              20   \n",
       "2           Clean Alternative Fuel Vehicle Eligible              84   \n",
       "3           Clean Alternative Fuel Vehicle Eligible             208   \n",
       "4           Clean Alternative Fuel Vehicle Eligible              42   \n",
       "\n",
       "   Base MSRP  Legislative District  DOL Vehicle ID  \\\n",
       "0          0                  43.0       202233958   \n",
       "1          0                  15.0       264425178   \n",
       "2          0                  11.0       114962025   \n",
       "3          0                   1.0       232724670   \n",
       "4          0                  14.0       221023589   \n",
       "\n",
       "                  Vehicle Location  \\\n",
       "0    POINT (-122.300312 47.629782)   \n",
       "1  POINT (-120.2658133 46.4063477)   \n",
       "2    POINT (-122.201564 47.402358)   \n",
       "3    POINT (-122.206146 47.839957)   \n",
       "4    POINT (-120.611068 46.596645)   \n",
       "\n",
       "                                Electric Utility  2020 Census Tract  \n",
       "0   CITY OF SEATTLE - (WA)|CITY OF TACOMA - (WA)       5.303301e+10  \n",
       "1                                     PACIFICORP       5.307700e+10  \n",
       "2  PUGET SOUND ENERGY INC||CITY OF TACOMA - (WA)       5.303303e+10  \n",
       "3                         PUGET SOUND ENERGY INC       5.306105e+10  \n",
       "4                                     PACIFICORP       5.307700e+10  "
      ]
     },
     "execution_count": 503,
     "metadata": {},
     "output_type": "execute_result"
    }
   ],
   "source": [
    "veichels.head()"
   ]
  },
  {
   "cell_type": "markdown",
   "id": "70d9ef24-1fc7-4c39-bc29-dfedc683d9eb",
   "metadata": {},
   "source": [
    "## Check for Data Types"
   ]
  },
  {
   "cell_type": "code",
   "execution_count": 505,
   "id": "69af49a9-f1a9-48e0-b096-3573d398c4b5",
   "metadata": {},
   "outputs": [
    {
     "data": {
      "text/plain": [
       "VIN (1-10)                                            object\n",
       "County                                                object\n",
       "City                                                  object\n",
       "State                                                 object\n",
       "Postal Code                                          float64\n",
       "Model Year                                             int64\n",
       "Make                                                  object\n",
       "Model                                                 object\n",
       "Electric Vehicle Type                                 object\n",
       "Clean Alternative Fuel Vehicle (CAFV) Eligibility     object\n",
       "Electric Range                                         int64\n",
       "Base MSRP                                              int64\n",
       "Legislative District                                 float64\n",
       "DOL Vehicle ID                                         int64\n",
       "Vehicle Location                                      object\n",
       "Electric Utility                                      object\n",
       "2020 Census Tract                                    float64\n",
       "dtype: object"
      ]
     },
     "execution_count": 505,
     "metadata": {},
     "output_type": "execute_result"
    }
   ],
   "source": [
    "veichels.dtypes"
   ]
  },
  {
   "cell_type": "markdown",
   "id": "0dca7def-ee41-4b1c-a35f-3a424cf30351",
   "metadata": {},
   "source": [
    "## Ckeck for Duplicates"
   ]
  },
  {
   "cell_type": "code",
   "execution_count": 507,
   "id": "f252ad91-686b-4e2e-875b-a61497e3fbf0",
   "metadata": {},
   "outputs": [
    {
     "data": {
      "text/plain": [
       "0"
      ]
     },
     "execution_count": 507,
     "metadata": {},
     "output_type": "execute_result"
    }
   ],
   "source": [
    "# We check the DAta for duplicate value \n",
    "# There is no Duplicate values in our data\n",
    "veichels.duplicated().sum()"
   ]
  },
  {
   "cell_type": "markdown",
   "id": "b2ee43b7-bb29-447a-912f-72b1b9956a6d",
   "metadata": {},
   "source": [
    "## Removing Some Unimportant columns\n",
    "`Before strating Detailed Analysis we Remove Some coluns`"
   ]
  },
  {
   "cell_type": "code",
   "execution_count": 509,
   "id": "0af8c6f4-375f-4010-981f-a973cd6703ad",
   "metadata": {},
   "outputs": [
    {
     "data": {
      "text/plain": [
       "Index(['VIN (1-10)', 'County', 'City', 'State', 'Postal Code', 'Model Year',\n",
       "       'Make', 'Model', 'Electric Vehicle Type',\n",
       "       'Clean Alternative Fuel Vehicle (CAFV) Eligibility', 'Electric Range',\n",
       "       'Base MSRP', 'Legislative District', 'DOL Vehicle ID',\n",
       "       'Vehicle Location', 'Electric Utility', '2020 Census Tract'],\n",
       "      dtype='object')"
      ]
     },
     "execution_count": 509,
     "metadata": {},
     "output_type": "execute_result"
    }
   ],
   "source": [
    "veichels.columns"
   ]
  },
  {
   "cell_type": "markdown",
   "id": "8ecab30d-022d-4398-bbaa-f27209969adb",
   "metadata": {},
   "source": [
    "## Country"
   ]
  },
  {
   "cell_type": "code",
   "execution_count": 511,
   "id": "60831f8a-ea90-4af4-bd30-cc1db8a2fcef",
   "metadata": {},
   "outputs": [
    {
     "data": {
      "text/plain": [
       "array(['King', 'Yakima', 'Snohomish', 'Thurston', 'Kitsap', 'Whitman',\n",
       "       'Walla Walla', 'Kittitas', 'Douglas', 'Grant', 'Chelan', 'Skagit',\n",
       "       'Stevens', nan, 'Maricopa', 'Clark', 'Cowlitz', 'Jefferson',\n",
       "       'Island', 'Clallam', 'Klickitat', 'Spokane', 'Pierce', 'Mason',\n",
       "       'San Juan', 'Benton', 'Whatcom', 'Okanogan', 'Lewis',\n",
       "       'Grays Harbor', 'Asotin', 'Pacific', 'Wake', 'Franklin',\n",
       "       'Skamania', 'Columbia', 'Wichita', 'Lincoln', 'El Paso',\n",
       "       'Garfield', 'Adams', 'Hillsborough', 'Sonoma', 'Wahkiakum',\n",
       "       'Pend Oreille', 'Marin', 'Monterey', 'Cumberland', 'Lee', 'Ferry',\n",
       "       'San Diego', 'Nueces', 'Stafford', 'Washoe', 'Kern', 'DeKalb',\n",
       "       'Richland', 'Pulaski', 'Platte', 'Bexar', 'Goochland', 'Kings',\n",
       "       'Santa Clara', 'Madison', 'Fairfax', 'Cook', 'Los Angeles',\n",
       "       'Beaufort', 'Solano', 'New York', 'Collin', 'Kootenai',\n",
       "       'Contra Costa', 'Leavenworth', 'Ada', 'Anne Arundel', 'James City',\n",
       "       'Alameda', 'Caddo', 'Orange', 'Plaquemines', 'Rockdale', 'DuPage',\n",
       "       'Virginia Beach', 'Las Animas', 'St. Charles', \"Prince George's\",\n",
       "       'Frederick', 'Ventura', 'Riverside', 'Houston', 'Kent', 'Berkeley',\n",
       "       'Galveston', 'Rock Island', 'San Bernardino', \"St. Mary's\",\n",
       "       'Hamilton', 'Mobile', 'Alexandria', 'Montgomery', 'Suffolk',\n",
       "       'Harnett', 'Laramie', 'Arapahoe', 'Newport News', 'Salt Lake',\n",
       "       'Placer', 'Chesapeake', 'Hennepin', 'Albemarle', 'Honolulu',\n",
       "       'Yuba', 'Otero', 'Howard', 'Multnomah', 'Allen', 'Saratoga',\n",
       "       'Larimer', 'San Mateo', 'Loudoun', 'Portsmouth', 'Isle of Wight',\n",
       "       'Sarpy', 'Carroll', 'St. Lawrence', 'Williamsburg', 'Kauai',\n",
       "       'Tooele', 'Washtenaw', 'Middlesex', 'Harris', 'Providence',\n",
       "       'Norfolk', 'Rockingham', 'Charles', 'Pinal', 'Santa Cruz', 'Polk',\n",
       "       'New Haven', 'Marion', 'Miami-Dade', 'Travis', 'Shelby',\n",
       "       'Chesterfield', 'Essex', 'Sedgwick', 'New London', 'Denton',\n",
       "       'Cuyahoga', 'Brevard', 'Mercer', 'Currituck', 'Escambia', 'Yolo',\n",
       "       'San Joaquin', 'Cochise', 'Charlottesville', 'Cache', 'Lake',\n",
       "       'Meade', 'Harford', 'District of Columbia', 'Hardin', 'Sacramento',\n",
       "       'Onslow', 'Fresno', 'Santa Barbara', 'York', 'Burlington',\n",
       "       'Anchorage', 'Hoke', 'Prince William', 'Flathead', 'Tarrant',\n",
       "       'Fredericksburg', 'Allegheny', 'Tompkins', 'Collier', 'Hudson',\n",
       "       'Charleston', 'Brown', 'Pima', 'Muscogee', 'Spotsylvania',\n",
       "       'Calvert', 'Oldham', 'Duval', 'Champaign', 'Autauga', 'El Dorado',\n",
       "       'Lane', 'Williamson', 'Atlantic', 'Bell', 'Newport', 'Maui',\n",
       "       'Pitt'], dtype=object)"
      ]
     },
     "execution_count": 511,
     "metadata": {},
     "output_type": "execute_result"
    }
   ],
   "source": [
    "veichels.County.unique()"
   ]
  },
  {
   "cell_type": "markdown",
   "id": "d821d8a8-c9fe-4a42-87e0-4c6405d8b0f7",
   "metadata": {},
   "source": [
    "## City"
   ]
  },
  {
   "cell_type": "code",
   "execution_count": 513,
   "id": "9cebd664-e0be-4a38-8eb2-24d450fcba24",
   "metadata": {},
   "outputs": [
    {
     "data": {
      "text/plain": [
       "array(['Seattle', 'Zillah', 'Kent', 'Bothell', 'Yakima', 'Redmond',\n",
       "       'Yelm', 'Poulsbo', 'Olympia', 'Port Orchard', 'Shoreline',\n",
       "       'Tumwater', 'Snohomish', 'Bellevue', 'Bainbridge Island',\n",
       "       'Stanwood', 'Bremerton', 'Lynnwood', 'Renton', 'Monroe',\n",
       "       'Lake Stevens', 'Pullman', 'Medina', 'Lacey', 'Mukilteo',\n",
       "       'Suquamish', 'Silverdale', 'Kingston', 'Moxee', 'Walla Walla',\n",
       "       'Vashon', 'Cle Elum', 'Everett', 'East Wenatchee', 'Woodway',\n",
       "       'Quincy', 'Wenatchee', 'Moses Lake', 'Bow', 'Colville', nan,\n",
       "       'Selah', 'Mount Vernon', 'Entiat', 'Anacortes', 'Enumclaw',\n",
       "       'Marysville', 'Easton', 'Brier', 'Mountlake Terrace', 'Edmonds',\n",
       "       'Goodyear', 'Kirkland', 'Vancouver', 'Mill Creek', 'Woodinville',\n",
       "       'Tukwila', 'Mercer Island', 'Brush Prairie', 'Wapato', 'Olalla',\n",
       "       'Kelso', 'Granger', 'Federal Way', 'North Bend', 'Battle Ground',\n",
       "       'Mabton', 'Issaquah', 'Port Ludlow', 'Burien', 'Oak Harbor',\n",
       "       'Longview', 'Sammamish', 'Lake Forest Park', 'Duvall', 'Camas',\n",
       "       'Auburn', 'Beaux Arts', 'Kenmore', 'Arlington', 'Washougal',\n",
       "       'Des Moines', 'Newcastle', 'Keyport', 'Port Townsend',\n",
       "       'Ridgefield', 'Coupeville', 'Kalama', 'Normandy Park',\n",
       "       'Maple Valley', 'Seatac', 'Seabeck', 'Toppenish', 'Castle Rock',\n",
       "       'Port Hadlock', 'Nine Mile Falls', 'Rainier', 'Woodland',\n",
       "       'Camano Island', 'Grandview', 'Covington', 'Snoqualmie',\n",
       "       'Port Angeles', 'Clyde Hill', 'Brinnon', 'La Center', 'Quilcene',\n",
       "       'Granite Falls', 'Algona', 'Yarrow Point', 'Silverlake', 'Naches',\n",
       "       'Tenino', 'Rochester', 'Sequim', 'Centralia', 'Pacific',\n",
       "       'Indianola', 'Sultan', 'Freeland', 'White Salmon', 'Cowiche',\n",
       "       'Hunts Point', 'Black Diamond', 'Ariel', 'Sunnyside', 'Nordland',\n",
       "       'Chimacum', 'Yacolt', 'Forks', 'Bucoda', 'Tieton', 'Bingen',\n",
       "       'Skykomish', 'Tulalip', 'Langley', 'Spokane', 'Hansville',\n",
       "       'Union Gap', 'Gig Harbor', 'Bonney Lake', 'Ellensburg', 'Lakewood',\n",
       "       'Chewelah', 'Royal City', 'Spanaway', 'Shelton', 'Amboy',\n",
       "       'Fircrest', 'Olga', 'Edgewood', 'University Place', 'Buckley',\n",
       "       'Mead', 'Kennewick', 'Cheney', 'Bellingham', 'South Prairie',\n",
       "       'Tacoma', 'Twisp', 'Tahuya', 'South Hill', 'Brewster', 'Puyallup',\n",
       "       'Carnation', 'Chelan', 'Burlington', 'Richland', 'Darrington',\n",
       "       'Deer Park', 'Spokane Valley', 'Elma', 'Sedro-Woolley',\n",
       "       'Eastsound', 'Parkland', 'Allyn', 'Milton', 'Friday Harbor',\n",
       "       'Spangle', 'Winlock', 'Point Roberts', 'Palouse', 'Graham',\n",
       "       'Belfair', 'Manson', 'Greenacres', 'Steilacoom', 'Lynden',\n",
       "       'West Richland', 'Clarkston', 'Outlook', 'Cashmere',\n",
       "       'Kettle Falls', 'Chehalis', 'Riverside', 'Gold Bar', 'Hoodsport',\n",
       "       'Baring', 'Colbert', 'Malaga', 'Satsop', 'Ephrata', 'Mazama',\n",
       "       'Leavenworth', 'Otis Orchards', 'Blaine', 'Long Beach',\n",
       "       'Joint Base Lewis Mcchord', 'Springdale', 'Holly Springs',\n",
       "       'Mossyrock', 'Lakebay', 'La Conner', 'Anderson Island', 'Pasco',\n",
       "       'Newman Lake', 'Stevenson', 'Goldendale', 'Menlo', 'Lopez Island',\n",
       "       'Vaughn', 'Ferndale', 'Ronald', 'Nespelem', 'Mineral', 'Fall City',\n",
       "       'Dallesport', 'Colfax', 'Dayton', 'Wellpinit', 'Lake Tapps',\n",
       "       'Montesano', 'Clinton', 'Underwood', 'Fox Island', 'Peshastin',\n",
       "       'Medical Lake', 'Winthrop', 'Fife', 'Lyle', 'Orting', 'Hoquiam',\n",
       "       'Chattaroy', 'Rock Island', 'Eatonville', 'Aberdeen', 'Las Vegas',\n",
       "       'Wichita Falls', 'Deming', 'Maple Falls', 'Oakville', 'Davenport',\n",
       "       'Toutle', 'Everson', 'Benton City', 'Coulee Dam',\n",
       "       'Colorado Springs', 'Husum', 'Pomeroy', 'Touchet', 'Ocean Shores',\n",
       "       'College Place', 'Seaview', 'Grand Coulee', 'Othello',\n",
       "       'Longbranch', 'Odessa', 'Roy', 'Onalaska', 'Liberty Lake',\n",
       "       'Ruston', 'Sumner', 'South Cle Elum', 'Lithia', 'Morton', 'Sumas',\n",
       "       'Mattawa', 'Tekoa', 'Prosser', 'Greenbank', 'Tonasket', 'Garfield',\n",
       "       'Westport', 'Grapeview', 'Packwood', 'Randle', 'Pacific Beach',\n",
       "       'Ritzville', 'Carson', 'Raymond', 'Union', 'Healdsburg', 'Toledo',\n",
       "       'North Bonneville', 'Airway Heights', 'Mccleary', 'Cathlamet',\n",
       "       'Newport', 'Ocean Park', 'Dupont', 'Rockport', 'South Bend',\n",
       "       'Burbank', 'Snoqualmie Pass', 'Clallam Bay', 'Index',\n",
       "       'Silver Creek', 'Sekiu', 'Grayland', 'Waldron', 'Murdock',\n",
       "       'Asotin', 'San Rafael', 'Elk', 'Seaside', 'Ashford', 'Uniontown',\n",
       "       'Lamont', 'Kittitas', 'Lind', 'Bz Corner', 'Carlisle', 'Vader',\n",
       "       'Roosevelt', 'Lummi Island', 'Orondo', 'Connell', 'Electric City',\n",
       "       'Shaw Island', 'Trout Lake', 'Methow', 'Valleyford', 'Vantage',\n",
       "       'Glacier', 'Sedro Woolley', 'Omak', 'Smiths Station', 'Cosmopolis',\n",
       "       'Ilwaco', 'Hatton', 'Snowden', 'Oroville', 'Ethel', 'North Cove',\n",
       "       'Roslyn', 'Curtis', 'Republic', 'Cusick', 'Lilliwaup', 'Evans',\n",
       "       'Nooksack', 'Veradale', 'Bay Center', 'San Diego', 'Ione',\n",
       "       'Soap Lake', 'Corpus Christi', 'Stafford', 'Oakesdale',\n",
       "       'Clearlake', 'Salkum', 'Taholah', 'Mica', 'Latah', 'Usk', 'Wilbur',\n",
       "       'Glenoma', 'Waterville', 'Edwall', 'Raleigh', 'Bridgeport Bar',\n",
       "       'Neah Bay', 'Reno', 'Albion', 'Okanogan', 'Ridgecrest',\n",
       "       'Waitsburg', 'Palisades', 'Decatur', 'Carbonado', 'Naselle',\n",
       "       'Hopkins', 'Waynesville', 'Platte City', 'Almira', 'San Antonio',\n",
       "       'Mesa', 'Henrico', 'Brooklyn', 'Loon Lake', 'Nahcotta', 'Thorp',\n",
       "       'Surfside', 'Ravensdale', 'Lyman', 'Sunnyvale', 'Pateros',\n",
       "       'Lacrosse', 'Harrington', 'Saint Jacob', 'Copalis Beach',\n",
       "       'Alderdale', 'Napavine', 'Chula Vista', 'Merrifield', 'Gifford',\n",
       "       'Inchelium', 'Chicago', 'Custer', 'Lakeview', 'Frances',\n",
       "       'Skamokawa', 'Lincoln', 'Rice', 'Acme', 'Rosalia', 'Preston',\n",
       "       'Cinebar', 'Stratford', 'Washtucna', 'Beaver', 'Northport',\n",
       "       'Fairchild Air Force Base', 'Okatie', 'Elmer City', 'La Mesa',\n",
       "       'Omaha', 'Travis Afb', 'Eltopia', 'Concrete', 'Pe Ell', 'Lebam',\n",
       "       'Waverly', 'Reardan', 'New York', 'Mckinney', 'Post Falls',\n",
       "       'Martinez', 'Ryderwood', 'Carlton', 'Oysterville', 'Creston',\n",
       "       'Wilkeson', 'Tumtum', 'Lansing', 'Boise', 'Rosburg', 'Clayton',\n",
       "       'Walla Walla Co', 'Parker', 'Odenton', 'Copalis Crossing', 'Addy',\n",
       "       'Smith Creek', 'Lafayette', 'Bangor Base', 'Bridgeport',\n",
       "       'Maryhill', 'Rockford', 'Warden', 'Grays River', 'Toano',\n",
       "       'Chinook', 'Hunters', 'Berkeley', 'Worley', 'Pacific Grove',\n",
       "       'Shreveport', 'Buena Park', 'Edgewater', 'Belle Chasse', 'Conyers',\n",
       "       'Cupertino', 'Orient', 'Lisle', 'Prairie Ridge', 'Benicia',\n",
       "       'Irvine', 'Klickitat', 'Virginia Beach', 'Los Angeles', 'Trinidad',\n",
       "       'O Fallon', 'Coulee City', 'Arnold', 'Valley', 'Upper Marlboro',\n",
       "       'Paterson', 'Ford', 'Middletown', 'Ventura', 'Wildomar',\n",
       "       'Warner Robins', 'Alexandria', 'Dover', 'Summerville', 'Vienna',\n",
       "       'Dickinson', 'Pros', 'McCleary', 'Deer Harbor', 'Wahkiacus',\n",
       "       'Fort Irwin', 'Andrews Air Force Base', 'Danville',\n",
       "       'Lexington Park', 'Cincinnati', 'Amanda Park', 'Vista', 'Moclips',\n",
       "       'Mobile', 'Little Rock', 'Silver Spring', 'Orcas Is', 'Suffolk',\n",
       "       'Endicott', 'Sanford', 'Sprague', 'Fredericksburg', 'Cheyenne',\n",
       "       'Englewood', 'Aurora', 'Fayetteville', 'Tokeland', 'Scottsdale',\n",
       "       'Startup', 'Lemoore', 'Fort George G Meade', 'Hartline', 'Dixie',\n",
       "       'Newport News', 'Salt Lake City', 'Roseville', 'San Jose',\n",
       "       'Chesapeake', 'Minneapolis', 'Charlottesville', 'Vacaville',\n",
       "       'Quinault', 'Springfield', 'San Clemente', 'Skokie', 'Glenwood',\n",
       "       'Honolulu', 'Beale Afb', 'Elbe', 'Menifee', 'Cougar', 'Curlew',\n",
       "       'Apple Valley', 'Holloman Air Force Base', 'Rosamond',\n",
       "       'Newbury Park', 'Chandler', 'Portland', 'Fort Wayne',\n",
       "       'Saratoga Springs', 'Herndon', 'Timnath', 'Torrance',\n",
       "       'Redwood City', 'Aldie', 'Watertown', 'Portsmouth', 'Carrollton',\n",
       "       'Mc Lean', 'Bethesda', 'Westminster', 'Dryden', 'Moorpark',\n",
       "       'Ogdensburg', 'Williamsburg', 'Kekaha', 'Fort Bragg', 'Tampa',\n",
       "       'Tooele', 'Ann Arbor', 'Port Hueneme', 'Orcas', 'Marblemount',\n",
       "       'East Brunswick', 'Houston', 'Spring Lake', 'Home', 'Providence',\n",
       "       'Fort Washington', 'Santa Rosa', 'Norfolk', 'Artondale',\n",
       "       'Sausalito', 'Waldorf', 'Apache Junction', 'Santa Cruz', 'Marlin',\n",
       "       'Salem', 'Madison', 'Henderson', 'Pella', 'Edwardsville', 'Miami',\n",
       "       'Austin', 'Pelham', 'North Chesterfield', 'Deer Meadows',\n",
       "       'Leander', 'Kailua', 'Montclair', 'Gambrills', 'West Chicago',\n",
       "       'Wichita', 'Gales Ferry', 'Centerville', 'Little Elm',\n",
       "       'Kensington', 'Westlake', 'Melbourne', 'Princeton', 'Moyock',\n",
       "       'Pasc', 'Seven Bays', 'Calera', 'Lynn', 'Pensacola', 'Hanover',\n",
       "       'Alameda', 'Newark', 'Chapel Hill', 'Davis', 'Ellicott City',\n",
       "       'Lodi', 'Fort Huachuca', 'Logan', 'Tempe', 'Groton', 'Burr Ridge',\n",
       "       'Sparks', 'Enid', 'Old Lyme', 'Bloomfield', 'Gaithersburg',\n",
       "       'Waterford', 'Chantilly', 'Incorporated', 'Hobart', 'Fort Knox',\n",
       "       'Tucson', 'Hanscom Afb', 'Washington', 'Elizabethtown',\n",
       "       'Sacramento', 'Mccutcheon Field', 'Phoenix', 'Fresno', 'Lompoc',\n",
       "       'Yorktown', 'Joint Base Mdl', 'North Hollywood', 'Eagle River',\n",
       "       'Palo Alto', 'Raeford', 'Bluffdale', 'Dumfries', 'Whitefish',\n",
       "       'Lopez Is', 'Cathedral City', 'Bedford', 'Mechanicsburg',\n",
       "       'Pittsburgh', 'Chelmsford', 'Ithaca', 'White Swan', 'San Juan Is',\n",
       "       'Riverview', 'Monterey', 'Saint Robert', 'Reseda', 'Hanahan',\n",
       "       'Naples', 'Jersey City', 'Winter Park', 'Manassas', 'Oceanside',\n",
       "       'Burke', 'Mansfield', 'Conconully', 'Mililani', 'Libertyville',\n",
       "       'Atherton', 'Ewa Beach', 'Rich', 'Gunpowder', 'Charleston Afb',\n",
       "       'Kapowsin', 'St John', 'Green Bay', 'Malott', 'Colton', 'Laughlin',\n",
       "       'Silver Lake', 'El Paso', 'Columbus', 'Fort Belvoir',\n",
       "       'Greenfield Center', 'Fort Leavenworth', 'Midway City',\n",
       "       'Chesapeake Beach', 'Trabuco Canyon', 'Gardena', 'Camarillo',\n",
       "       'Adna', 'North Las Vegas', 'Malden', 'Wishram', 'Hamilton',\n",
       "       'Goshen', 'Chelan Falls', 'Port Gamble', 'Alderwood Manor',\n",
       "       'Jacksonville', 'Mountain View', 'Champaign', 'Lancaster',\n",
       "       'Atlanta', 'Prattville', 'Folsom', 'Frederick', 'Southlake',\n",
       "       'Plymouth', 'South Lake Tahoe', 'Woodbridge', 'Hanford',\n",
       "       'Aberdeen Proving Ground', 'Moraga', 'Round Rock', 'Pacifica',\n",
       "       'Egg Harbor Township', 'Marina', 'Killeen', 'Potomac', 'Kihei',\n",
       "       'Los Altos', 'Mystic', 'Winterville', 'Fort Benning', 'Fremont'],\n",
       "      dtype=object)"
      ]
     },
     "execution_count": 513,
     "metadata": {},
     "output_type": "execute_result"
    }
   ],
   "source": [
    "veichels.City.unique()"
   ]
  },
  {
   "cell_type": "code",
   "execution_count": 514,
   "id": "ff518156-4bb1-4239-832a-a5ec44b08e1c",
   "metadata": {},
   "outputs": [
    {
     "data": {
      "text/plain": [
       "City\n",
       "Seattle                    31436\n",
       "Bellevue                    9582\n",
       "Redmond                     6883\n",
       "Vancouver                   6744\n",
       "Bothell                     6278\n",
       "                           ...  \n",
       "Holloman Air Force Base        1\n",
       "Rosamond                       1\n",
       "Newbury Park                   1\n",
       "Saratoga Springs               1\n",
       "Fremont                        1\n",
       "Name: count, Length: 744, dtype: int64"
      ]
     },
     "execution_count": 514,
     "metadata": {},
     "output_type": "execute_result"
    }
   ],
   "source": [
    "veichels.City.value_counts()"
   ]
  },
  {
   "cell_type": "code",
   "execution_count": 515,
   "id": "8e3a33e2-9f14-4faa-89e4-c5d4172baaf0",
   "metadata": {},
   "outputs": [
    {
     "data": {
      "text/plain": [
       "dtype('O')"
      ]
     },
     "execution_count": 515,
     "metadata": {},
     "output_type": "execute_result"
    }
   ],
   "source": [
    "veichels.City.dtypes"
   ]
  },
  {
   "cell_type": "markdown",
   "id": "25eab928-ceac-40f8-ae51-e41d7121ad75",
   "metadata": {},
   "source": [
    "## State"
   ]
  },
  {
   "cell_type": "code",
   "execution_count": 517,
   "id": "01181950-7024-4659-9233-1d3b345b24e5",
   "metadata": {},
   "outputs": [
    {
     "data": {
      "text/plain": [
       "array(['WA', 'BC', 'AE', 'AZ', 'NC', 'NV', 'TX', 'CO', 'FL', 'CA', 'PA',\n",
       "       'AL', 'VA', 'GA', 'SC', 'MO', 'NY', 'IL', 'NE', 'ID', 'KS', 'MD',\n",
       "       'LA', 'DE', 'OH', 'AR', 'WY', 'UT', 'MN', 'HI', 'NM', 'OR', 'IN',\n",
       "       'MI', 'NJ', 'RI', 'NH', 'CT', 'IA', 'MA', 'OK', 'KY', 'DC', 'AK',\n",
       "       'MT', 'WI'], dtype=object)"
      ]
     },
     "execution_count": 517,
     "metadata": {},
     "output_type": "execute_result"
    }
   ],
   "source": [
    "veichels.State.unique()"
   ]
  },
  {
   "cell_type": "code",
   "execution_count": 518,
   "id": "9898114e-d5da-4a42-a37a-ac2df03bbcde",
   "metadata": {},
   "outputs": [
    {
     "data": {
      "text/plain": [
       "0         Washington\n",
       "1         Washington\n",
       "2         Washington\n",
       "3         Washington\n",
       "4         Washington\n",
       "             ...    \n",
       "191402    Washington\n",
       "191403    Washington\n",
       "191404    Washington\n",
       "191405    Washington\n",
       "191406    Washington\n",
       "Name: State, Length: 191407, dtype: object"
      ]
     },
     "execution_count": 518,
     "metadata": {},
     "output_type": "execute_result"
    }
   ],
   "source": [
    "(\n",
    "    veichels.State.replace({\n",
    "        'WA' :'Washington',\n",
    "        'BC' :'British Columbia',\n",
    "        'AE' :'Africa',\n",
    "        'AZ' : 'Arizona',\n",
    "        'NC' : 'North Carolina',\n",
    "        'NV' : 'Nevada',\n",
    "        'TX' : 'Taxas',\n",
    "        'CO' : 'Colorado',\n",
    "        'FL' :'Florida',\n",
    "        'CA' : 'California',\n",
    "        'PA' : 'Pennsylvania',\n",
    "        'AL' : 'Alabama',\n",
    "        'VA' : 'Virginia',\n",
    "        'GA' : 'Georgia',\n",
    "        'SC' : 'South Carolina',\n",
    "        'MO' : 'Missouri',\n",
    "        'NY' : 'New York',\n",
    "        'IL' : 'ILLINOIS',\n",
    "         'NE': 'Nebraska',\n",
    "        'ID': 'Idaho',\n",
    "        'KS': 'Kansas',\n",
    "        'MD': 'Maryland',\n",
    "        'LA': 'Louisiana',\n",
    "        'DE': 'Delaware',\n",
    "        'OH': 'Ohio',\n",
    "        'AR': 'Arkansas',\n",
    "        'WY': 'Wyoming',\n",
    "        'UT': 'Utah',\n",
    "        'MN': 'Minnesota',\n",
    "        'HI': 'Hawaii',\n",
    "        'NM': 'New Mexico',\n",
    "        'OR': 'Oregon',\n",
    "        'IN': 'Indiana',\n",
    "        'MI': 'Michigan',\n",
    "        'NJ': 'New Jersey',\n",
    "        'RI': 'Rhode Island',\n",
    "        'NH': 'New Hampshire',\n",
    "        'CT': 'Connecticut',\n",
    "        'IA': 'Iowa',\n",
    "        'MA': 'Massachusetts',\n",
    "        'OK': 'Oklahoma',\n",
    "        'KY': 'Kentucky',\n",
    "        'DC': 'District of Columbia',\n",
    "        'AK': 'Alaska',\n",
    "        'MT': 'Montana',\n",
    "        'WI': 'Wisconsin'\n",
    "    })\n",
    ")"
   ]
  },
  {
   "cell_type": "code",
   "execution_count": 519,
   "id": "d5d24a51-a86e-4c48-a668-dd36b96f30a8",
   "metadata": {},
   "outputs": [
    {
     "data": {
      "text/plain": [
       "State\n",
       "WA    190993\n",
       "CA       107\n",
       "VA        53\n",
       "MD        32\n",
       "TX        25\n",
       "CO        16\n",
       "NC        15\n",
       "IL        14\n",
       "AZ        13\n",
       "NV         9\n",
       "FL         9\n",
       "NY         8\n",
       "NJ         8\n",
       "HI         8\n",
       "OR         7\n",
       "CT         7\n",
       "AL         7\n",
       "SC         7\n",
       "UT         6\n",
       "GA         6\n",
       "MO         5\n",
       "ID         4\n",
       "OH         4\n",
       "LA         4\n",
       "DC         3\n",
       "IN         3\n",
       "PA         3\n",
       "KY         3\n",
       "KS         3\n",
       "MA         3\n",
       "BC         3\n",
       "AR         2\n",
       "MI         2\n",
       "RI         2\n",
       "NE         2\n",
       "AK         1\n",
       "MT         1\n",
       "OK         1\n",
       "DE         1\n",
       "IA         1\n",
       "NH         1\n",
       "NM         1\n",
       "MN         1\n",
       "WY         1\n",
       "AE         1\n",
       "WI         1\n",
       "Name: count, dtype: int64"
      ]
     },
     "execution_count": 519,
     "metadata": {},
     "output_type": "execute_result"
    }
   ],
   "source": [
    "veichels.State.value_counts()"
   ]
  },
  {
   "cell_type": "markdown",
   "id": "d28b86eb-3c12-4f13-90d9-7a0b7dd43f0a",
   "metadata": {},
   "source": [
    "## Postal Code"
   ]
  },
  {
   "cell_type": "code",
   "execution_count": 521,
   "id": "d981ddb1-b81b-47fa-97d0-1ee0e1069995",
   "metadata": {},
   "outputs": [
    {
     "data": {
      "text/plain": [
       "0         98112\n",
       "1         98953\n",
       "2         98031\n",
       "3         98012\n",
       "4         98908\n",
       "          ...  \n",
       "191402    98390\n",
       "191403    98396\n",
       "191404    98024\n",
       "191405    98520\n",
       "191406    99352\n",
       "Name: Postal Code, Length: 191407, dtype: Int64"
      ]
     },
     "execution_count": 521,
     "metadata": {},
     "output_type": "execute_result"
    }
   ],
   "source": [
    "# we convert postal code column into interger data type\n",
    "pd.to_numeric(veichels['Postal Code'], errors='coerce').astype('Int64')"
   ]
  },
  {
   "cell_type": "code",
   "execution_count": 522,
   "id": "19653477-34ac-4067-acf5-34b5e45365ad",
   "metadata": {},
   "outputs": [
    {
     "data": {
      "text/plain": [
       "0         98112\n",
       "1         98953\n",
       "2         98031\n",
       "3         98012\n",
       "4         98908\n",
       "          ...  \n",
       "191402    98390\n",
       "191403    98396\n",
       "191404    98024\n",
       "191405    98520\n",
       "191406    99352\n",
       "Name: Postal Code, Length: 191407, dtype: Int64"
      ]
     },
     "execution_count": 522,
     "metadata": {},
     "output_type": "execute_result"
    }
   ],
   "source": [
    "(\n",
    "    veichels['Postal Code']\n",
    "    .pipe(lambda ser : pd.to_numeric(ser,errors='coerce').astype('Int64'))\n",
    ")"
   ]
  },
  {
   "cell_type": "markdown",
   "id": "b78bfc88-780d-4300-8dcb-039815a0487b",
   "metadata": {},
   "source": [
    "## Model Year"
   ]
  },
  {
   "cell_type": "code",
   "execution_count": 524,
   "id": "618a86ab-5de8-4dab-b4c5-32339107caff",
   "metadata": {},
   "outputs": [
    {
     "data": {
      "text/plain": [
       "0         2019\n",
       "1         2024\n",
       "2         2015\n",
       "3         2015\n",
       "4         2022\n",
       "          ... \n",
       "191402    2019\n",
       "191403    2023\n",
       "191404    2024\n",
       "191405    2022\n",
       "191406    2023\n",
       "Name: Model Year, Length: 191407, dtype: int32"
      ]
     },
     "execution_count": 524,
     "metadata": {},
     "output_type": "execute_result"
    }
   ],
   "source": [
    "# we convert the model year column into datetime data type \n",
    "pd.to_datetime(veichels['Model Year'],format='%Y').dt.year"
   ]
  },
  {
   "cell_type": "markdown",
   "id": "e1862d06-8caf-4899-9674-b9495fd45812",
   "metadata": {},
   "source": [
    "## Make"
   ]
  },
  {
   "cell_type": "code",
   "execution_count": 526,
   "id": "dd566848-236c-43e0-a881-e82d5849025b",
   "metadata": {},
   "outputs": [
    {
     "data": {
      "text/plain": [
       "array(['TESLA', 'BMW', 'NISSAN', 'TOYOTA', 'FORD', 'FIAT', 'CHRYSLER',\n",
       "       'AUDI', 'VOLVO', 'PORSCHE', 'JEEP', 'HYUNDAI', 'VOLKSWAGEN',\n",
       "       'CHEVROLET', 'KIA', 'MERCEDES-BENZ', 'MINI', 'MITSUBISHI', 'HONDA',\n",
       "       'RIVIAN', 'JAGUAR', 'DODGE', 'CADILLAC', 'LUCID', 'SUBARU',\n",
       "       'POLESTAR', 'LEXUS', 'SMART', 'ALFA ROMEO', 'MAZDA', 'FISKER',\n",
       "       'LINCOLN', 'GENESIS', 'LAND ROVER', 'GMC', 'TH!NK',\n",
       "       'AZURE DYNAMICS', 'WHEEGO ELECTRIC CARS', 'BENTLEY', 'ROLLS ROYCE',\n",
       "       'ACURA', 'RAM'], dtype=object)"
      ]
     },
     "execution_count": 526,
     "metadata": {},
     "output_type": "execute_result"
    }
   ],
   "source": [
    "veichels.Make.unique()"
   ]
  },
  {
   "cell_type": "code",
   "execution_count": 527,
   "id": "468c3a32-8f75-47e3-8e79-db3473b403c3",
   "metadata": {},
   "outputs": [
    {
     "data": {
      "text/plain": [
       "array(['TESLA', 'BMW', 'NISSAN', 'TOYOTA', 'FORD', 'FIAT', 'CHRYSLER',\n",
       "       'AUDI', 'VOLVO', 'PORSCHE', 'JEEP', 'HYUNDAI', 'VOLKSWAGEN',\n",
       "       'CHEVROLET', 'KIA', 'MERCEDES-BENZ', 'MINI', 'MITSUBISHI', 'HONDA',\n",
       "       'RIVIAN', 'JAGUAR', 'DODGE', 'CADILLAC', 'LUCID', 'SUBARU',\n",
       "       'POLESTAR', 'LEXUS', 'SMART', 'ALFA ROMEO', 'MAZDA', 'FISKER',\n",
       "       'LINCOLN', 'GENESIS', 'LAND ROVER', 'GMC', 'THINK',\n",
       "       'AZURE DYNAMICS', 'WHEEGO ELECTRIC CARS', 'BENTLEY', 'ROLLS ROYCE',\n",
       "       'ACURA', 'RAM'], dtype=object)"
      ]
     },
     "execution_count": 527,
     "metadata": {},
     "output_type": "execute_result"
    }
   ],
   "source": [
    "veichels.Make.replace('TH!NK','THINK').unique()"
   ]
  },
  {
   "cell_type": "code",
   "execution_count": 528,
   "id": "c31c5ad8-f792-4dbf-825c-141dcc51381c",
   "metadata": {},
   "outputs": [
    {
     "data": {
      "text/plain": [
       "Make\n",
       "TESLA                   84670\n",
       "CHEVROLET               14321\n",
       "NISSAN                  14239\n",
       "FORD                    10048\n",
       "KIA                      8671\n",
       "BMW                      7993\n",
       "TOYOTA                   7181\n",
       "VOLKSWAGEN               5408\n",
       "JEEP                     4996\n",
       "HYUNDAI                  4977\n",
       "RIVIAN                   4751\n",
       "VOLVO                    4469\n",
       "AUDI                     3890\n",
       "CHRYSLER                 3393\n",
       "MERCEDES-BENZ            1784\n",
       "PORSCHE                  1182\n",
       "MITSUBISHI                996\n",
       "MINI                      984\n",
       "SUBARU                    970\n",
       "POLESTAR                  939\n",
       "HONDA                     857\n",
       "FIAT                      781\n",
       "DODGE                     619\n",
       "MAZDA                     581\n",
       "LEXUS                     567\n",
       "CADILLAC                  552\n",
       "LINCOLN                   281\n",
       "LUCID                     263\n",
       "SMART                     259\n",
       "JAGUAR                    234\n",
       "GENESIS                   219\n",
       "FISKER                    181\n",
       "LAND ROVER                 60\n",
       "ALFA ROMEO                 56\n",
       "GMC                        11\n",
       "AZURE DYNAMICS              8\n",
       "TH!NK                       5\n",
       "WHEEGO ELECTRIC CARS        3\n",
       "BENTLEY                     3\n",
       "ROLLS ROYCE                 2\n",
       "RAM                         2\n",
       "ACURA                       1\n",
       "Name: count, dtype: int64"
      ]
     },
     "execution_count": 528,
     "metadata": {},
     "output_type": "execute_result"
    }
   ],
   "source": [
    "veichels.Make.value_counts()"
   ]
  },
  {
   "cell_type": "markdown",
   "id": "578350da-2dcc-460e-877c-23d49efe51b7",
   "metadata": {},
   "source": [
    "## Model"
   ]
  },
  {
   "cell_type": "code",
   "execution_count": 530,
   "id": "a396c863-f42b-4372-b38e-20da70ff5f2d",
   "metadata": {},
   "outputs": [
    {
     "data": {
      "text/plain": [
       "array(['MODEL S', '330E', 'LEAF', 'RAV4 PRIME', 'MODEL 3', 'FUSION',\n",
       "       'PRIUS PRIME', '500', 'PACIFICA', 'I4', 'MODEL Y', 'PRIUS PLUG-IN',\n",
       "       'A3', 'I3', 'X5', 'XC90', 'TAYCAN', 'WRANGLER', 'KONA', 'XC60',\n",
       "       'MODEL X', 'F-150', 'ID.4', 'VOLT', 'SPORTAGE', 'GLC-CLASS',\n",
       "       'SORENTO', 'RAV4', 'COUNTRYMAN', 'C-MAX', 'HARDTOP', 'E-TRON',\n",
       "       'BOLT EV', 'OUTLANDER', 'X3', 'CLARITY', 'SOUL EV', 'TUCSON',\n",
       "       '745E', 'NIRO', 'R1S', 'Q5 E', 'B-CLASS', 'I-PACE', 'C40',\n",
       "       'KONA ELECTRIC', 'EV6', 'BZ4X', 'GRAND CHEROKEE', 'Q8', 'CAYENNE',\n",
       "       'HORNET', 'BOLT EUV', 'MUSTANG MACH-E', 'EQS-CLASS SEDAN', '530E',\n",
       "       'IONIQ 5', 'SPARK', 'S60', 'LYRIQ', 'AIR', 'EV9', 'TRANSIT',\n",
       "       'CYBERTRUCK', 'S-CLASS', 'SOLTERRA', 'IX', 'E-GOLF', 'XC40', 'PS2',\n",
       "       'Q4', 'EQS-CLASS SUV', 'IONIQ 6', 'IONIQ', 'EQB-CLASS',\n",
       "       'RS E-TRON GT', 'ARIYA', 'R1T', 'ROADSTER', 'OPTIMA', 'SOUL',\n",
       "       'ESCAPE', 'NX', 'I7', 'I8', 'EQ FORTWO', 'E-TRON SPORTBACK',\n",
       "       'C-CLASS', 'TONALE', 'CX-90', 'EQE-CLASS SUV', 'OCEAN', 'RZ',\n",
       "       'FOCUS', 'I5', 'EQE-CLASS SEDAN', 'E-TRON GT', 'PROLOGUE',\n",
       "       'CORSAIR', 'FORTWO ELECTRIC DRIVE', 'SANTA FE', 'GV70', 'GV60',\n",
       "       'G80', 'GLE-CLASS', '740E', 'XM', 'AVIATOR', 'SONATA', 'ELR', 'Q5',\n",
       "       'PANAMERA', 'RANGE ROVER SPORT', 'I-MIEV', 'BLAZER EV', 'V60',\n",
       "       'RX', 'CROSSTREK', 'FORTWO', 'S90', 'MX-30', 'SILVERADO EV',\n",
       "       'RANGE ROVER', 'A8 E', 'TX', 'SQ8', 'HUMMER EV PICKUP', 'A7 E',\n",
       "       'KARMA', 'ACCORD', 'IONIQ 5 N', 'CT6', 'CITY', 'RANGER', 'EDV',\n",
       "       'TRANSIT CONNECT ELECTRIC', 'CR-V', 'WHEEGO', 'FLYING SPUR', '918',\n",
       "       'SPECTRE', '745LE', 'ZDX', 'PROMASTER 3500', '750E', 'S-10 PICKUP',\n",
       "       'BENTAYGA'], dtype=object)"
      ]
     },
     "execution_count": 530,
     "metadata": {},
     "output_type": "execute_result"
    }
   ],
   "source": [
    "veichels.Model.unique()"
   ]
  },
  {
   "cell_type": "code",
   "execution_count": 531,
   "id": "02e4b1b4-69bb-4bfb-9077-0add1ae6fa25",
   "metadata": {},
   "outputs": [
    {
     "data": {
      "text/plain": [
       "array(['MODEL S', '330E', 'LEAF', 'RAV4 PRIME', 'MODEL 3', 'FUSION',\n",
       "       'PRIUS PRIME', '500', 'PACIFICA', 'I4', 'MODEL Y', 'PRIUS PLUG-IN',\n",
       "       'A3', 'I3', 'X5', 'XC90', 'TAYCAN', 'WRANGLER', 'KONA', 'XC60',\n",
       "       'MODEL X', 'F-150', 'ID.4', 'VOLT', 'SPORTAGE', 'GLC-CLASS',\n",
       "       'SORENTO', 'RAV4', 'COUNTRYMAN', 'C-MAX', 'HARDTOP', 'E-TRON',\n",
       "       'BOLT EV', 'OUTLANDER', 'X3', 'CLARITY', 'SOUL EV', 'TUCSON',\n",
       "       '745E', 'NIRO', 'R1S', 'Q5 E', 'B-CLASS', 'I-PACE', 'C40',\n",
       "       'KONA ELECTRIC', 'EV6', 'BZ4X', 'GRAND CHEROKEE', 'Q8', 'CAYENNE',\n",
       "       'HORNET', 'BOLT EUV', 'MUSTANG MACH-E', 'EQS-CLASS SEDAN', '530E',\n",
       "       'IONIQ 5', 'SPARK', 'S60', 'LYRIQ', 'AIR', 'EV9', 'TRANSIT',\n",
       "       'CYBERTRUCK', 'S-CLASS', 'SOLTERRA', 'IX', 'E-GOLF', 'XC40', 'PS2',\n",
       "       'Q4', 'EQS-CLASS SUV', 'IONIQ 6', 'IONIQ', 'EQB-CLASS',\n",
       "       'RS E-TRON GT', 'ARIYA', 'R1T', 'ROADSTER', 'OPTIMA', 'SOUL',\n",
       "       'ESCAPE', 'NX', 'I7', 'I8', 'EQ FORTWO', 'E-TRON SPORTBACK',\n",
       "       'C-CLASS', 'TONALE', 'CX-90', 'EQE-CLASS SUV', 'OCEAN', 'RZ',\n",
       "       'FOCUS', 'I5', 'EQE-CLASS SEDAN', 'E-TRON GT', 'PROLOGUE',\n",
       "       'CORSAIR', 'FORTWO ELECTRIC DRIVE', 'SANTA FE', 'GV70', 'GV60',\n",
       "       'G80', 'GLE-CLASS', '740E', 'XM', 'AVIATOR', 'SONATA', 'ELR', 'Q5',\n",
       "       'PANAMERA', 'RANGE ROVER SPORT', 'I-MIEV', 'BLAZER EV', 'V60',\n",
       "       'RX', 'CROSSTREK', 'FORTWO', 'S90', 'MX-30', 'SILVERADO EV',\n",
       "       'RANGE ROVER', 'A8 E', 'TX', 'SQ8', 'HUMMER EV PICKUP', 'A7 E',\n",
       "       'KARMA', 'ACCORD', 'IONIQ 5 N', 'CT6', 'CITY', 'RANGER', 'EDV',\n",
       "       'TRANSIT CONNECT ELECTRIC', 'CR-V', 'WHEEGO', 'FLYING SPUR', '918',\n",
       "       'SPECTRE', '745LE', 'ZDX', 'PROMASTER 3500', '750E', 'S-10 PICKUP',\n",
       "       'BENTAYGA'], dtype=object)"
      ]
     },
     "execution_count": 531,
     "metadata": {},
     "output_type": "execute_result"
    }
   ],
   "source": [
    "veichels.Model.str.strip().unique()"
   ]
  },
  {
   "cell_type": "code",
   "execution_count": 532,
   "id": "5b3a0289-5a1a-4c55-ab68-23806b8e7357",
   "metadata": {},
   "outputs": [
    {
     "data": {
      "text/plain": [
       "array(['MODEL', '330E', 'LEAF', 'RAV4 PRIME', 'MODEL 3', 'FUSION',\n",
       "       'PRIUS PRIME', '500', 'PACIFICA', 'I4', 'MODEL Y', 'PRIUS PLUGIN',\n",
       "       'A3', 'I3', 'X5', 'XC90', 'TAYCAN', 'WRANGLER', 'KONA', 'XC60',\n",
       "       'MODEL X', 'F150', 'ID.4', 'VOLT', 'SPORTAGE', 'GLCCLASS',\n",
       "       'SORENTO', 'RAV4', 'COUNTRYMAN', 'CMAX', 'HARDTOP', 'ETRON',\n",
       "       'BOLT EV', 'OUTLANDER', 'X3', 'CLARITY', 'SOUL EV', 'TUCSON',\n",
       "       '745E', 'NIRO', 'R1S', 'Q5 E', 'BCLASS', 'IPACE', 'C40',\n",
       "       'KONA ELECTRIC', 'EV6', 'BZ4X', 'GRAND CHEROKEE', 'Q8', 'CAYENNE',\n",
       "       'HORNET', 'BOLT EUV', 'MUSTANG MACHE', 'EQSCLASS SEDAN', '530E',\n",
       "       'IONIQ 5', 'SPARK', 'S60', 'LYRIQ', 'AIR', 'EV9', 'TRANSIT',\n",
       "       'CYBERTRUCK', 'SCLASS', 'SOLTERRA', 'IX', 'EGOLF', 'XC40', 'PS2',\n",
       "       'Q4', 'EQSCLASS SUV', 'IONIQ 6', 'IONIQ', 'EQBCLASS',\n",
       "       'RS ETRON GT', 'ARIYA', 'R1T', 'ROADSTER', 'OPTIMA', 'SOUL',\n",
       "       'ESCAPE', 'NX', 'I7', 'I8', 'EQ FORTWO', 'ETRON SPORTBACK',\n",
       "       'CCLASS', 'TONALE', 'CX90', 'EQECLASS SUV', 'OCEAN', 'RZ', 'FOCUS',\n",
       "       'I5', 'EQECLASS SEDAN', 'ETRON GT', 'PROLOGUE', 'CORSAIR',\n",
       "       'FORTWO ELECTRIC DRIVE', 'SANTA FE', 'GV70', 'GV60', 'G80',\n",
       "       'GLECLASS', '740E', 'XM', 'AVIATOR', 'SONATA', 'ELR', 'Q5',\n",
       "       'PANAMERA', 'RANGE ROVER SPORT', 'IMIEV', 'BLAZER EV', 'V60', 'RX',\n",
       "       'CROSSTREK', 'FORTWO', 'S90', 'MX30', 'SILVERADO EV',\n",
       "       'RANGE ROVER', 'A8 E', 'TX', 'SQ8', 'HUMMER EV PICKUP', 'A7 E',\n",
       "       'KARMA', 'ACCORD', 'IONIQ 5 N', 'CT6', 'CITY', 'RANGER', 'EDV',\n",
       "       'TRANSIT CONNECT ELECTRIC', 'CRV', 'WHEEGO', 'FLYING SPUR', '918',\n",
       "       'SPECTRE', '745LE', 'ZDX', 'PROMASTER 3500', '750E', 'S10 PICKUP',\n",
       "       'BENTAYGA'], dtype=object)"
      ]
     },
     "execution_count": 532,
     "metadata": {},
     "output_type": "execute_result"
    }
   ],
   "source": [
    "veichels.Model.pipe(lambda ser : ser.str.replace('-','')).replace('MODEL S','MODEL').unique()"
   ]
  },
  {
   "cell_type": "code",
   "execution_count": 533,
   "id": "404b991f-857a-4782-b372-a8763b1206d2",
   "metadata": {},
   "outputs": [
    {
     "data": {
      "text/plain": [
       "array(['MODEL', '330E', 'LEAF', 'RAV4 PRIME', 'MODEL 3', 'FUSION',\n",
       "       'PRIUS PRIME', '500', 'PACIFICA', 'I4', 'MODEL Y', 'PRIUS PLUG-IN',\n",
       "       'A3', 'I3', 'X5', 'XC90', 'TAYCAN', 'WRANGLER', 'KONA', 'XC60',\n",
       "       'MODEL X', 'F-150', 'ID.4', 'VOLT', 'SPORTAGE', 'GLC-CLASS',\n",
       "       'SORENTO', 'RAV4', 'COUNTRYMAN', 'C-MAX', 'HARDTOP', 'E-TRON',\n",
       "       'BOLT EV', 'OUTLANDER', 'X3', 'CLARITY', 'SOUL EV', 'TUCSON',\n",
       "       '745E', 'NIRO', 'R1S', 'Q5 E', 'B-CLASS', 'I-PACE', 'C40',\n",
       "       'KONA ELECTRIC', 'EV6', 'BZ4X', 'GRAND CHEROKEE', 'Q8', 'CAYENNE',\n",
       "       'HORNET', 'BOLT EUV', 'MUSTANG MACH-E', 'EQS-CLASS SEDAN', '530E',\n",
       "       'IONIQ 5', 'SPARK', 'S60', 'LYRIQ', 'AIR', 'EV9', 'TRANSIT',\n",
       "       'CYBERTRUCK', 'S-CLASS', 'SOLTERRA', 'IX', 'E-GOLF', 'XC40', 'PS2',\n",
       "       'Q4', 'EQS-CLASS SUV', 'IONIQ 6', 'IONIQ', 'EQB-CLASS',\n",
       "       'RS E-TRON GT', 'ARIYA', 'R1T', 'ROADSTER', 'OPTIMA', 'SOUL',\n",
       "       'ESCAPE', 'NX', 'I7', 'I8', 'EQ FORTWO', 'E-TRON SPORTBACK',\n",
       "       'C-CLASS', 'TONALE', 'CX-90', 'EQE-CLASS SUV', 'OCEAN', 'RZ',\n",
       "       'FOCUS', 'I5', 'EQE-CLASS SEDAN', 'E-TRON GT', 'PROLOGUE',\n",
       "       'CORSAIR', 'FORTWO ELECTRIC DRIVE', 'SANTA FE', 'GV70', 'GV60',\n",
       "       'G80', 'GLE-CLASS', '740E', 'XM', 'AVIATOR', 'SONATA', 'ELR', 'Q5',\n",
       "       'PANAMERA', 'RANGE ROVER SPORT', 'I-MIEV', 'BLAZER EV', 'V60',\n",
       "       'RX', 'CROSSTREK', 'FORTWO', 'S90', 'MX-30', 'SILVERADO EV',\n",
       "       'RANGE ROVER', 'A8 E', 'TX', 'SQ8', 'HUMMER EV PICKUP', 'A7 E',\n",
       "       'KARMA', 'ACCORD', 'IONIQ 5 N', 'CT6', 'CITY', 'RANGER', 'EDV',\n",
       "       'TRANSIT CONNECT ELECTRIC', 'CR-V', 'WHEEGO', 'FLYING SPUR', '918',\n",
       "       'SPECTRE', '745LE', 'ZDX', 'PROMASTER 3500', '750E', 'S-10 PICKUP',\n",
       "       'BENTAYGA'], dtype=object)"
      ]
     },
     "execution_count": 533,
     "metadata": {},
     "output_type": "execute_result"
    }
   ],
   "source": [
    "veichels.Model.str.replace('MODEL S','MODEL').unique()"
   ]
  },
  {
   "cell_type": "markdown",
   "id": "49016396-7b2c-41a7-9e66-3ab7d565deb1",
   "metadata": {},
   "source": [
    "## Electric Vehicle Type"
   ]
  },
  {
   "cell_type": "code",
   "execution_count": 535,
   "id": "5d586b69-9263-47cf-a1da-516f19bf06b6",
   "metadata": {},
   "outputs": [
    {
     "data": {
      "text/plain": [
       "0                 Battery Electric Vehicle (BEV)\n",
       "1         Plug-in Hybrid Electric Vehicle (PHEV)\n",
       "2                 Battery Electric Vehicle (BEV)\n",
       "3                 Battery Electric Vehicle (BEV)\n",
       "4         Plug-in Hybrid Electric Vehicle (PHEV)\n",
       "                           ...                  \n",
       "191402            Battery Electric Vehicle (BEV)\n",
       "191403            Battery Electric Vehicle (BEV)\n",
       "191404            Battery Electric Vehicle (BEV)\n",
       "191405            Battery Electric Vehicle (BEV)\n",
       "191406            Battery Electric Vehicle (BEV)\n",
       "Name: Electric Vehicle Type, Length: 191407, dtype: object"
      ]
     },
     "execution_count": 535,
     "metadata": {},
     "output_type": "execute_result"
    }
   ],
   "source": [
    "veichels['Electric Vehicle Type']"
   ]
  },
  {
   "cell_type": "code",
   "execution_count": 536,
   "id": "af226d46-bbf3-480c-97fe-8c0d7b4cc8a0",
   "metadata": {},
   "outputs": [
    {
     "data": {
      "text/plain": [
       "array(['Battery Electric Vehicle (BEV)',\n",
       "       'Plug-in Hybrid Electric Vehicle (PHEV)'], dtype=object)"
      ]
     },
     "execution_count": 536,
     "metadata": {},
     "output_type": "execute_result"
    }
   ],
   "source": [
    "veichels['Electric Vehicle Type'].unique()"
   ]
  },
  {
   "cell_type": "code",
   "execution_count": 537,
   "id": "c762b6fe-0d47-41ff-b360-48dbf1cbde38",
   "metadata": {},
   "outputs": [
    {
     "data": {
      "text/plain": [
       "Electric Vehicle Type\n",
       "Battery Electric Vehicle (BEV)            149687\n",
       "Plug-in Hybrid Electric Vehicle (PHEV)     41720\n",
       "Name: count, dtype: int64"
      ]
     },
     "execution_count": 537,
     "metadata": {},
     "output_type": "execute_result"
    }
   ],
   "source": [
    "veichels['Electric Vehicle Type'].value_counts()"
   ]
  },
  {
   "cell_type": "code",
   "execution_count": 538,
   "id": "941303ec-868d-4806-b54b-bff3609c45ab",
   "metadata": {},
   "outputs": [
    {
     "data": {
      "text/plain": [
       "0          BEV\n",
       "1         PHEV\n",
       "2          BEV\n",
       "3          BEV\n",
       "4         PHEV\n",
       "          ... \n",
       "191402     BEV\n",
       "191403     BEV\n",
       "191404     BEV\n",
       "191405     BEV\n",
       "191406     BEV\n",
       "Name: Electric Vehicle Type, Length: 191407, dtype: object"
      ]
     },
     "execution_count": 538,
     "metadata": {},
     "output_type": "execute_result"
    }
   ],
   "source": [
    "(\n",
    "    veichels['Electric Vehicle Type']\n",
    "    .replace({\n",
    "        'Battery Electric Vehicle (BEV)' : 'BEV',\n",
    "        'Plug-in Hybrid Electric Vehicle (PHEV)' : 'PHEV'\n",
    "    })\n",
    ")"
   ]
  },
  {
   "cell_type": "markdown",
   "id": "e483a987-cf9d-4c55-8160-048726c6a47c",
   "metadata": {},
   "source": [
    "## Clean Alternative Fuel Vehicle (CAFV) Eligibility"
   ]
  },
  {
   "cell_type": "code",
   "execution_count": 540,
   "id": "832d64f3-756d-480a-ab38-897a10a1dbfa",
   "metadata": {},
   "outputs": [
    {
     "data": {
      "text/plain": [
       "0                   Clean Alternative Fuel Vehicle Eligible\n",
       "1                     Not eligible due to low battery range\n",
       "2                   Clean Alternative Fuel Vehicle Eligible\n",
       "3                   Clean Alternative Fuel Vehicle Eligible\n",
       "4                   Clean Alternative Fuel Vehicle Eligible\n",
       "                                ...                        \n",
       "191402              Clean Alternative Fuel Vehicle Eligible\n",
       "191403    Eligibility unknown as battery range has not b...\n",
       "191404    Eligibility unknown as battery range has not b...\n",
       "191405    Eligibility unknown as battery range has not b...\n",
       "191406    Eligibility unknown as battery range has not b...\n",
       "Name: Clean Alternative Fuel Vehicle (CAFV) Eligibility, Length: 191407, dtype: object"
      ]
     },
     "execution_count": 540,
     "metadata": {},
     "output_type": "execute_result"
    }
   ],
   "source": [
    "veichels['Clean Alternative Fuel Vehicle (CAFV) Eligibility']"
   ]
  },
  {
   "cell_type": "code",
   "execution_count": 541,
   "id": "1c3e6806-c508-46bc-9a7a-5624cf083a52",
   "metadata": {},
   "outputs": [
    {
     "data": {
      "text/plain": [
       "array(['Clean Alternative Fuel Vehicle Eligible',\n",
       "       'Not eligible due to low battery range',\n",
       "       'Eligibility unknown as battery range has not been researched'],\n",
       "      dtype=object)"
      ]
     },
     "execution_count": 541,
     "metadata": {},
     "output_type": "execute_result"
    }
   ],
   "source": [
    "veichels['Clean Alternative Fuel Vehicle (CAFV) Eligibility'].unique()"
   ]
  },
  {
   "cell_type": "code",
   "execution_count": 542,
   "id": "05cdf692-1d73-417a-b2a8-01f6fe5a39d9",
   "metadata": {},
   "outputs": [
    {
     "data": {
      "text/plain": [
       "Clean Alternative Fuel Vehicle (CAFV) Eligibility\n",
       "Eligibility unknown as battery range has not been researched    102133\n",
       "Clean Alternative Fuel Vehicle Eligible                          68785\n",
       "Not eligible due to low battery range                            20489\n",
       "Name: count, dtype: int64"
      ]
     },
     "execution_count": 542,
     "metadata": {},
     "output_type": "execute_result"
    }
   ],
   "source": [
    "veichels['Clean Alternative Fuel Vehicle (CAFV) Eligibility'].value_counts()"
   ]
  },
  {
   "cell_type": "code",
   "execution_count": 543,
   "id": "d649485f-a413-47ed-bda7-e287a69857d1",
   "metadata": {},
   "outputs": [
    {
     "data": {
      "text/plain": [
       "0             eligible\n",
       "1         not eligible\n",
       "2             eligible\n",
       "3             eligible\n",
       "4             eligible\n",
       "              ...     \n",
       "191402        eligible\n",
       "191403         unknown\n",
       "191404         unknown\n",
       "191405         unknown\n",
       "191406         unknown\n",
       "Name: Clean Alternative Fuel Vehicle (CAFV) Eligibility, Length: 191407, dtype: object"
      ]
     },
     "execution_count": 543,
     "metadata": {},
     "output_type": "execute_result"
    }
   ],
   "source": [
    "(\n",
    "    veichels['Clean Alternative Fuel Vehicle (CAFV) Eligibility']\n",
    "    .replace({\n",
    "        'Eligibility unknown as battery range has not been researched': 'unknown',\n",
    "        'Clean Alternative Fuel Vehicle Eligible' : 'eligible',\n",
    "        'Not eligible due to low battery range' : 'not eligible'\n",
    "    })\n",
    ")"
   ]
  },
  {
   "cell_type": "markdown",
   "id": "fdbd3d9a-aa85-4495-8bf7-a5757760d483",
   "metadata": {},
   "source": [
    "## Electric Range"
   ]
  },
  {
   "cell_type": "code",
   "execution_count": 545,
   "id": "f5988171-584c-4dac-9011-0128d9b977ab",
   "metadata": {},
   "outputs": [
    {
     "data": {
      "text/plain": [
       "0         270\n",
       "1          20\n",
       "2          84\n",
       "3         208\n",
       "4          42\n",
       "         ... \n",
       "191402    220\n",
       "191403      0\n",
       "191404      0\n",
       "191405      0\n",
       "191406      0\n",
       "Name: Electric Range, Length: 191407, dtype: int64"
      ]
     },
     "execution_count": 545,
     "metadata": {},
     "output_type": "execute_result"
    }
   ],
   "source": [
    "veichels['Electric Range']"
   ]
  },
  {
   "cell_type": "code",
   "execution_count": 546,
   "id": "000a18ac-b70f-45fc-bf57-5e3bd3db38ed",
   "metadata": {},
   "outputs": [
    {
     "data": {
      "text/plain": [
       "dtype('int64')"
      ]
     },
     "execution_count": 546,
     "metadata": {},
     "output_type": "execute_result"
    }
   ],
   "source": [
    "veichels['Electric Range'].dtypes"
   ]
  },
  {
   "cell_type": "code",
   "execution_count": 547,
   "id": "56ea7de5-057f-4d6b-8a8f-7bc3e408881d",
   "metadata": {},
   "outputs": [
    {
     "data": {
      "text/plain": [
       "0"
      ]
     },
     "execution_count": 547,
     "metadata": {},
     "output_type": "execute_result"
    }
   ],
   "source": [
    "veichels['Electric Range'].isnull().sum()"
   ]
  },
  {
   "cell_type": "markdown",
   "id": "cb554daa-c867-4266-bbd9-be46f5e8e476",
   "metadata": {},
   "source": [
    "## Base MSRP"
   ]
  },
  {
   "cell_type": "code",
   "execution_count": 549,
   "id": "d0d76b6c-ea46-4ea4-910c-44084bcc78de",
   "metadata": {},
   "outputs": [
    {
     "data": {
      "text/plain": [
       "0         0\n",
       "1         0\n",
       "2         0\n",
       "3         0\n",
       "4         0\n",
       "         ..\n",
       "191402    0\n",
       "191403    0\n",
       "191404    0\n",
       "191405    0\n",
       "191406    0\n",
       "Name: Base MSRP, Length: 191407, dtype: int64"
      ]
     },
     "execution_count": 549,
     "metadata": {},
     "output_type": "execute_result"
    }
   ],
   "source": [
    "veichels['Base MSRP']"
   ]
  },
  {
   "cell_type": "code",
   "execution_count": 550,
   "id": "6b76d11a-5501-482f-bd5e-ab930bf80b2c",
   "metadata": {},
   "outputs": [
    {
     "data": {
      "text/plain": [
       "dtype('int64')"
      ]
     },
     "execution_count": 550,
     "metadata": {},
     "output_type": "execute_result"
    }
   ],
   "source": [
    "veichels['Base MSRP'].dtypes"
   ]
  },
  {
   "cell_type": "code",
   "execution_count": 551,
   "id": "c9e87888-604e-4c35-9c37-75600239d9e6",
   "metadata": {},
   "outputs": [
    {
     "data": {
      "text/plain": [
       "0"
      ]
     },
     "execution_count": 551,
     "metadata": {},
     "output_type": "execute_result"
    }
   ],
   "source": [
    "veichels['Base MSRP'].isnull().sum()"
   ]
  },
  {
   "cell_type": "code",
   "execution_count": 552,
   "id": "c2f51ef7-66c0-4487-996c-6efcfe9cfa7e",
   "metadata": {},
   "outputs": [
    {
     "data": {
      "text/plain": [
       "0         43.0\n",
       "1         15.0\n",
       "2         11.0\n",
       "3          1.0\n",
       "4         14.0\n",
       "          ... \n",
       "191402    31.0\n",
       "191403    31.0\n",
       "191404     5.0\n",
       "191405    19.0\n",
       "191406     8.0\n",
       "Name: Legislative District, Length: 191407, dtype: float64"
      ]
     },
     "execution_count": 552,
     "metadata": {},
     "output_type": "execute_result"
    }
   ],
   "source": [
    "veichels['Legislative District']"
   ]
  },
  {
   "cell_type": "markdown",
   "id": "b54c98ee-abc0-4b7c-8eef-4586eb9ab992",
   "metadata": {},
   "source": [
    "## Legislative District"
   ]
  },
  {
   "cell_type": "code",
   "execution_count": 554,
   "id": "d5d71ef6-bd05-48ee-a5c6-e12a1ec90089",
   "metadata": {},
   "outputs": [
    {
     "data": {
      "text/plain": [
       "0         43.0\n",
       "1         15.0\n",
       "2         11.0\n",
       "3          1.0\n",
       "4         14.0\n",
       "          ... \n",
       "191402    31.0\n",
       "191403    31.0\n",
       "191404     5.0\n",
       "191405    19.0\n",
       "191406     8.0\n",
       "Name: Legislative District, Length: 191407, dtype: float64"
      ]
     },
     "execution_count": 554,
     "metadata": {},
     "output_type": "execute_result"
    }
   ],
   "source": [
    "veichels['Legislative District']"
   ]
  },
  {
   "cell_type": "code",
   "execution_count": 555,
   "id": "c81f93cf-a69b-41a6-8e0d-b7049e1980a6",
   "metadata": {},
   "outputs": [
    {
     "data": {
      "text/plain": [
       "<IntegerArray>\n",
       "[  43,   15,   11,    1,   14,   48,    2,   23,   45,   22,   35,   47,   32,\n",
       "   21,   46,   10,   26,   39,   44,    9,   34,   37,   16,   13,   12,   40,\n",
       "    7, <NA>,   31,   38,   30,   36,   17,   49,   41,   33,   19,    5,   18,\n",
       "   24,   20,   29,    3,   28,    4,    6,   27,   25,    8,   42]\n",
       "Length: 50, dtype: Int64"
      ]
     },
     "execution_count": 555,
     "metadata": {},
     "output_type": "execute_result"
    }
   ],
   "source": [
    "veichels['Legislative District'].astype('Int64').unique()"
   ]
  },
  {
   "cell_type": "code",
   "execution_count": 556,
   "id": "4008c8ba-cb6e-4747-92d1-0c74146698d2",
   "metadata": {},
   "outputs": [
    {
     "data": {
      "text/plain": [
       "array(['CITY OF SEATTLE - (WA)|CITY OF TACOMA - (WA)', 'PACIFICORP',\n",
       "       'PUGET SOUND ENERGY INC||CITY OF TACOMA - (WA)',\n",
       "       'PUGET SOUND ENERGY INC', 'AVISTA CORP',\n",
       "       'PUD NO 1 OF DOUGLAS COUNTY', 'PUD NO 2 OF GRANT COUNTY',\n",
       "       'PUD NO 1 OF CHELAN COUNTY', nan,\n",
       "       'NON WASHINGTON STATE ELECTRIC UTILITY',\n",
       "       'BONNEVILLE POWER ADMINISTRATION||PUD NO 1 OF CLARK COUNTY - (WA)',\n",
       "       'BONNEVILLE POWER ADMINISTRATION||PUD NO 1 OF COWLITZ COUNTY',\n",
       "       'BONNEVILLE POWER ADMINISTRATION||PACIFICORP||BENTON RURAL ELECTRIC ASSN',\n",
       "       'BONNEVILLE POWER ADMINISTRATION||PUGET SOUND ENERGY INC||PUD NO 1 OF JEFFERSON COUNTY',\n",
       "       'BONNEVILLE POWER ADMINISTRATION||PUD 1 OF SNOHOMISH COUNTY',\n",
       "       'BONNEVILLE POWER ADMINISTRATION||PACIFICORP||PUD NO 1 OF CLARK COUNTY - (WA)',\n",
       "       'NO KNOWN ELECTRIC UTILITY SERVICE',\n",
       "       'BONNEVILLE POWER ADMINISTRATION||CITY OF PORT ANGELES - (WA)',\n",
       "       'BONNEVILLE POWER ADMINISTRATION||PUD NO 1 OF MASON COUNTY|PUD NO 1 OF JEFFERSON COUNTY',\n",
       "       'BONNEVILLE POWER ADMINISTRATION||PUD NO 1 OF CLALLAM COUNTY',\n",
       "       'BONNEVILLE POWER ADMINISTRATION||PUD NO 1 OF KLICKITAT COUNTY',\n",
       "       'BONNEVILLE POWER ADMINISTRATION||AVISTA CORP||INLAND POWER & LIGHT COMPANY',\n",
       "       'BONNEVILLE POWER ADMINISTRATION||CITY OF TACOMA - (WA)||PENINSULA LIGHT COMPANY',\n",
       "       'BONNEVILLE POWER ADMINISTRATION||PUD NO 1 OF KITTITAS COUNTY',\n",
       "       'BONNEVILLE POWER ADMINISTRATION||CITY OF TACOMA - (WA)||LAKEVIEW LIGHT & POWER|PENINSULA LIGHT COMPANY',\n",
       "       'CITY OF CHEWELAH',\n",
       "       'BONNEVILLE POWER ADMINISTRATION||CITY OF TACOMA - (WA)||PUD NO 3 OF MASON COUNTY',\n",
       "       'MODERN ELECTRIC WATER COMPANY',\n",
       "       'BONNEVILLE POWER ADMINISTRATION||ORCAS POWER & LIGHT COOP',\n",
       "       'BONNEVILLE POWER ADMINISTRATION||INLAND POWER & LIGHT COMPANY',\n",
       "       'BONNEVILLE POWER ADMINISTRATION||CITY OF ELLENSBURG - (WA)',\n",
       "       'BONNEVILLE POWER ADMINISTRATION||PUD NO 1 OF BENTON COUNTY',\n",
       "       'CITY OF CHENEY - (WA)',\n",
       "       'PUGET SOUND ENERGY INC||PUD NO 1 OF WHATCOM COUNTY',\n",
       "       'OKANOGAN COUNTY ELEC COOP, INC', 'PUD NO 1 OF OKANOGAN COUNTY',\n",
       "       'BONNEVILLE POWER ADMINISTRATION||CITY OF TACOMA - (WA)||ELMHURST MUTUAL POWER & LIGHT CO|PENINSULA LIGHT COMPANY',\n",
       "       'BONNEVILLE POWER ADMINISTRATION||CITY OF RICHLAND - (WA)',\n",
       "       'BONNEVILLE POWER ADMINISTRATION||CITY OF CENTRALIA - (WA)|CITY OF TACOMA - (WA)',\n",
       "       'BONNEVILLE POWER ADMINISTRATION||PUD NO 1 OF GRAYS HARBOR COUNTY',\n",
       "       'BONNEVILLE POWER ADMINISTRATION||CITY OF MILTON - (WA)|CITY OF TACOMA - (WA)',\n",
       "       'BONNEVILLE POWER ADMINISTRATION||CITY OF TACOMA - (WA)||PUD NO 1 OF LEWIS COUNTY',\n",
       "       'BONNEVILLE POWER ADMINISTRATION||VERA IRRIGATION DISTRICT #15',\n",
       "       'BONNEVILLE POWER ADMINISTRATION||CITY OF TACOMA - (WA)||BENTON RURAL ELECTRIC ASSN|PENINSULA LIGHT COMPANY',\n",
       "       'BONNEVILLE POWER ADMINISTRATION||TOWN OF STEILACOOM|CITY OF TACOMA - (WA)||PENINSULA LIGHT COMPANY',\n",
       "       'BONNEVILLE POWER ADMINISTRATION||AVISTA CORP||PUD NO 1 OF ASOTIN COUNTY',\n",
       "       'BONNEVILLE POWER ADMINISTRATION||CITY OF TACOMA - (WA)||PARKLAND LIGHT & WATER COMPANY|PENINSULA LIGHT COMPANY',\n",
       "       'CITY OF TACOMA - (WA)',\n",
       "       'CITY OF BLAINE - (WA)||PUD NO 1 OF WHATCOM COUNTY',\n",
       "       'BONNEVILLE POWER ADMINISTRATION||PUD NO 2 OF PACIFIC COUNTY',\n",
       "       'BONNEVILLE POWER ADMINISTRATION||PUD NO 1 OF FRANKLIN COUNTY',\n",
       "       'BONNEVILLE POWER ADMINISTRATION||PUD NO 1 OF SKAMANIA CO',\n",
       "       'CITY OF SEATTLE - (WA)',\n",
       "       'BONNEVILLE POWER ADMINISTRATION||PUD NO 1 OF CLALLAM COUNTY|PUD NO 1 OF JEFFERSON COUNTY',\n",
       "       'BONNEVILLE POWER ADMINISTRATION||NESPELEM VALLEY ELEC COOP, INC',\n",
       "       'CITY OF TACOMA - (WA)||TANNER ELECTRIC COOP',\n",
       "       'BONNEVILLE POWER ADMINISTRATION||CITY OF TACOMA - (WA)||PUD NO 1 OF MASON COUNTY',\n",
       "       'BONNEVILLE POWER ADMINISTRATION||CITY OF TACOMA - (WA)||OHOP MUTUAL LIGHT COMPANY, INC|PENINSULA LIGHT COMPANY',\n",
       "       'BONNEVILLE POWER ADMINISTRATION||TOWN OF EATONVILLE - (WA)|CITY OF TACOMA - (WA)',\n",
       "       'BONNEVILLE POWER ADMINISTRATION||CITY OF COULEE DAM - (WA)',\n",
       "       'BONNEVILLE POWER ADMINISTRATION||AVISTA CORP||BIG BEND ELECTRIC COOP, INC',\n",
       "       'BONNEVILLE POWER ADMINISTRATION||BIG BEND ELECTRIC COOP, INC',\n",
       "       'BONNEVILLE POWER ADMINISTRATION||TOWN OF RUSTON - (WA)|CITY OF TACOMA - (WA)||PENINSULA LIGHT COMPANY',\n",
       "       'BONNEVILLE POWER ADMINISTRATION||BENTON RURAL ELECTRIC ASSN',\n",
       "       'BONNEVILLE POWER ADMINISTRATION||CITY OF MCCLEARY - (WA)',\n",
       "       'BONNEVILLE POWER ADMINISTRATION||PUD NO 1 OF WAHKIAKUM COUNTY',\n",
       "       'PUD NO 1 OF PEND OREILLE COUNTY',\n",
       "       'BONNEVILLE POWER ADMINISTRATION||COLUMBIA RURAL ELEC ASSN, INC',\n",
       "       'PORTLAND GENERAL ELECTRIC CO', 'PUD NO 1 OF WHATCOM COUNTY',\n",
       "       'BONNEVILLE POWER ADMINISTRATION||PUD NO 1 OF FERRY COUNTY',\n",
       "       'CITY OF SUMAS - (WA)||PUD NO 1 OF WHATCOM COUNTY',\n",
       "       'BONNEVILLE POWER ADMINISTRATION||PENINSULA LIGHT COMPANY',\n",
       "       'BONNEVILLE POWER ADMINISTRATION||CITY OF TACOMA - (WA)||ALDER MUTUAL LIGHT CO, INC|PENINSULA LIGHT COMPANY',\n",
       "       'BONNEVILLE POWER ADMINISTRATION||PACIFICORP||COLUMBIA RURAL ELEC ASSN, INC',\n",
       "       'BONNEVILLE POWER ADMINISTRATION||PUD NO 1 OF JEFFERSON COUNTY'],\n",
       "      dtype=object)"
      ]
     },
     "execution_count": 556,
     "metadata": {},
     "output_type": "execute_result"
    }
   ],
   "source": [
    "veichels['Electric Utility'].unique()"
   ]
  },
  {
   "cell_type": "code",
   "execution_count": 557,
   "id": "696a9afc-730b-4bed-8a0f-0673961f5a2d",
   "metadata": {},
   "outputs": [
    {
     "data": {
      "text/plain": [
       "Electric Utility\n",
       "PUGET SOUND ENERGY INC||CITY OF TACOMA - (WA)                                                                 70546\n",
       "PUGET SOUND ENERGY INC                                                                                        38778\n",
       "CITY OF SEATTLE - (WA)|CITY OF TACOMA - (WA)                                                                  33567\n",
       "BONNEVILLE POWER ADMINISTRATION||PUD NO 1 OF CLARK COUNTY - (WA)                                              11067\n",
       "BONNEVILLE POWER ADMINISTRATION||CITY OF TACOMA - (WA)||PENINSULA LIGHT COMPANY                                8446\n",
       "                                                                                                              ...  \n",
       "BONNEVILLE POWER ADMINISTRATION||CITY OF TACOMA - (WA)||ALDER MUTUAL LIGHT CO, INC|PENINSULA LIGHT COMPANY        2\n",
       "CITY OF SEATTLE - (WA)                                                                                            2\n",
       "BONNEVILLE POWER ADMINISTRATION||PUD NO 1 OF CLALLAM COUNTY|PUD NO 1 OF JEFFERSON COUNTY                          1\n",
       "BONNEVILLE POWER ADMINISTRATION||PENINSULA LIGHT COMPANY                                                          1\n",
       "BONNEVILLE POWER ADMINISTRATION||PUD NO 1 OF JEFFERSON COUNTY                                                     1\n",
       "Name: count, Length: 75, dtype: int64"
      ]
     },
     "execution_count": 557,
     "metadata": {},
     "output_type": "execute_result"
    }
   ],
   "source": [
    "veichels['Electric Utility'].value_counts()"
   ]
  },
  {
   "cell_type": "markdown",
   "id": "5a292e2b-3fa8-4e87-b504-991ce5643526",
   "metadata": {},
   "source": [
    "## Cleaning Operation"
   ]
  },
  {
   "cell_type": "code",
   "execution_count": 669,
   "id": "d0814f90-5a73-479f-9f8c-0d516bff26af",
   "metadata": {},
   "outputs": [],
   "source": [
    "def clean_data(df):\n",
    "    return(\n",
    "        df.assign(**{\n",
    "            col :df[col].str.strip()\n",
    "            for col in df.select_dtypes(include = \"O\").columns\n",
    "        }) # assign end\n",
    "        # In this line we covert the all columns into lower case\n",
    "        .rename(columns = str.lower)\n",
    "        # In this line we rename the all columns\n",
    "        .rename(columns = {\n",
    "            'vin (1-10)': 'vin',\n",
    "            'county' :'country',\n",
    "            'make' : 'manufacturer',\n",
    "            'electric vehicle type' :'electric_type',\n",
    "            'clean alternative fuel vehicle (cafv) eligibility':'clean_fuel_eligibility',\n",
    "            'electric range':'electric_range',\n",
    "            'base msrp':'retail_price',\n",
    "            'legislative district':'legislative_district',\n",
    "            'dol vehicle id' :'vehicle_id',\n",
    "            'vehicle location':'vehicle_location',\n",
    "            'electric utility':'electric_utility',\n",
    "            '2020 census tract':'2020_census_tract',\n",
    "            'postal code': 'postal_code',\n",
    "            'model year': 'model_year'\n",
    "        })\n",
    "        .assign(\n",
    "            # we replace the all values with complete name of state column\n",
    "            state = lambda df_ :(\n",
    "                df_\n",
    "                .state\n",
    "                .replace({\n",
    "                        'WA' :'Washington',\n",
    "                        'BC' :'British Columbia',\n",
    "                        'AE' :'Africa',\n",
    "                        'AZ' : 'Arizona',\n",
    "                        'NC' : 'North Carolina',\n",
    "                        'NV' : 'Nevada',\n",
    "                        'TX' : 'Taxas',\n",
    "                        'CO' : 'Colorado',\n",
    "                        'FL' :'Florida',\n",
    "                        'CA' : 'California',\n",
    "                        'PA' : 'Pennsylvania',\n",
    "                        'AL' : 'Alabama',\n",
    "                        'VA' : 'Virginia',\n",
    "                        'GA' : 'Georgia',\n",
    "                        'SC' : 'South Carolina',\n",
    "                        'MO' : 'Missouri',\n",
    "                        'NY' : 'New York',\n",
    "                        'IL' : 'ILLINOIS',\n",
    "                         'NE': 'Nebraska',\n",
    "                        'ID': 'Idaho',\n",
    "                        'KS': 'Kansas',\n",
    "                        'MD': 'Maryland',\n",
    "                        'LA': 'Louisiana',\n",
    "                        'DE': 'Delaware',\n",
    "                        'OH': 'Ohio',\n",
    "                        'AR': 'Arkansas',\n",
    "                        'WY': 'Wyoming',\n",
    "                        'UT': 'Utah',\n",
    "                        'MN': 'Minnesota',\n",
    "                        'HI': 'Hawaii',\n",
    "                        'NM': 'New Mexico',\n",
    "                        'OR': 'Oregon',\n",
    "                        'IN': 'Indiana',\n",
    "                        'MI': 'Michigan',\n",
    "                        'NJ': 'New Jersey',\n",
    "                        'RI': 'Rhode Island',\n",
    "                        'NH': 'New Hampshire',\n",
    "                        'CT': 'Connecticut',\n",
    "                        'IA': 'Iowa',\n",
    "                        'MA': 'Massachusetts',\n",
    "                        'OK': 'Oklahoma',\n",
    "                        'KY': 'Kentucky',\n",
    "                        'DC': 'District of Columbia',\n",
    "                        'AK': 'Alaska',\n",
    "                        'MT': 'Montana',\n",
    "                        'WI': 'Wisconsin'\n",
    "    })\n",
    "            ), #state column end\n",
    "            \n",
    "            # we convert the postal_code column into int data type\n",
    "            postal_code = lambda df_ : (\n",
    "                df_\n",
    "                .postal_code\n",
    "                .pipe(lambda ser : pd.to_numeric(ser,errors='coerce').astype('Int64'))\n",
    "                ),  #posatl code column end\n",
    "            \n",
    "            # model_year column convert into datetime data type\n",
    "            model_year = lambda df_ : pd.to_datetime(df_.model_year).dt.year,\n",
    "            \n",
    "            # manufacturer column\n",
    "            manufacturer = lambda df_ : df_.manufacturer.replace('TH!NK','THINK'),\n",
    "\n",
    "            # model column\n",
    "            # we remove the - from  model columnabs\n",
    "            model = lambda df_ : (\n",
    "                df_\n",
    "                .model\n",
    "                .pipe(lambda ser : ser.str.replace('-',''))\n",
    "            ),    # model column end\n",
    "\n",
    "            # electric_type column\n",
    "            electric_type = lambda df_ :(\n",
    "                df_\n",
    "                .electric_type\n",
    "                .replace({\n",
    "                    'Battery Electric Vehicle (BEV)' : 'BEV',\n",
    "                    'Plug-in Hybrid Electric Vehicle (PHEV)' : 'PHEV'\n",
    "                    \n",
    "                })\n",
    "            ),    #electric_type column end\n",
    "            \n",
    "            # clean_fuel_eligibility column\n",
    "            clean_fuel_eligibility = lambda df_ :(          #clean_fuel_eligibility strat\n",
    "                df_\n",
    "                .clean_fuel_eligibility\n",
    "                .replace({\n",
    "                    'Eligibility unknown as battery range has not been researched': 'unknown',\n",
    "                    'Clean Alternative Fuel Vehicle Eligible' : 'eligible',\n",
    "                    'Not eligible due to low battery range' : 'not eligible'\n",
    "                        })\n",
    "            ), \n",
    "\n",
    "            # Registered district column\n",
    "            legislative_district = lambda df_:(\n",
    "                df_\n",
    "                .legislative_district\n",
    "                .astype('Int64')\n",
    "            ),    # registred_district end\n",
    "            \n",
    "            # vehicle_location column\n",
    "            vehicle_location = lambda df_ : df_.vehicle_location,\n",
    "\n",
    "            # electric_range column\n",
    "            # we move the electric_range cloumn ate end of datafraem because it is our tagrget variable\n",
    "            electric_range = lambda df_ : df_.pop('electric_range')\n",
    "        )\n",
    "        we drop some unnecessary \n",
    "        .drop(columns = ['vin','postal_code','vehicle_id','retail_price','electric_utility','2020_census_tract','legislative_district'])\n",
    "         \n",
    "    )\n",
    "    \n",
    "     \n"
   ]
  },
  {
   "cell_type": "code",
   "execution_count": 676,
   "id": "cef14979-2bd8-4905-ae53-6f5bf4be9ed1",
   "metadata": {},
   "outputs": [
    {
     "data": {
      "text/html": [
       "<div>\n",
       "<style scoped>\n",
       "    .dataframe tbody tr th:only-of-type {\n",
       "        vertical-align: middle;\n",
       "    }\n",
       "\n",
       "    .dataframe tbody tr th {\n",
       "        vertical-align: top;\n",
       "    }\n",
       "\n",
       "    .dataframe thead th {\n",
       "        text-align: right;\n",
       "    }\n",
       "</style>\n",
       "<table border=\"1\" class=\"dataframe\">\n",
       "  <thead>\n",
       "    <tr style=\"text-align: right;\">\n",
       "      <th></th>\n",
       "      <th>country</th>\n",
       "      <th>city</th>\n",
       "      <th>state</th>\n",
       "      <th>model_year</th>\n",
       "      <th>manufacturer</th>\n",
       "      <th>model</th>\n",
       "      <th>electric_type</th>\n",
       "      <th>clean_fuel_eligibility</th>\n",
       "      <th>vehicle_location</th>\n",
       "      <th>electric_range</th>\n",
       "    </tr>\n",
       "  </thead>\n",
       "  <tbody>\n",
       "    <tr>\n",
       "      <th>0</th>\n",
       "      <td>King</td>\n",
       "      <td>Seattle</td>\n",
       "      <td>Washington</td>\n",
       "      <td>1970</td>\n",
       "      <td>TESLA</td>\n",
       "      <td>MODEL S</td>\n",
       "      <td>BEV</td>\n",
       "      <td>eligible</td>\n",
       "      <td>POINT (-122.300312 47.629782)</td>\n",
       "      <td>270</td>\n",
       "    </tr>\n",
       "    <tr>\n",
       "      <th>1</th>\n",
       "      <td>Yakima</td>\n",
       "      <td>Zillah</td>\n",
       "      <td>Washington</td>\n",
       "      <td>1970</td>\n",
       "      <td>BMW</td>\n",
       "      <td>330E</td>\n",
       "      <td>PHEV</td>\n",
       "      <td>not eligible</td>\n",
       "      <td>POINT (-120.2658133 46.4063477)</td>\n",
       "      <td>20</td>\n",
       "    </tr>\n",
       "    <tr>\n",
       "      <th>2</th>\n",
       "      <td>King</td>\n",
       "      <td>Kent</td>\n",
       "      <td>Washington</td>\n",
       "      <td>1970</td>\n",
       "      <td>NISSAN</td>\n",
       "      <td>LEAF</td>\n",
       "      <td>BEV</td>\n",
       "      <td>eligible</td>\n",
       "      <td>POINT (-122.201564 47.402358)</td>\n",
       "      <td>84</td>\n",
       "    </tr>\n",
       "    <tr>\n",
       "      <th>3</th>\n",
       "      <td>Snohomish</td>\n",
       "      <td>Bothell</td>\n",
       "      <td>Washington</td>\n",
       "      <td>1970</td>\n",
       "      <td>TESLA</td>\n",
       "      <td>MODEL S</td>\n",
       "      <td>BEV</td>\n",
       "      <td>eligible</td>\n",
       "      <td>POINT (-122.206146 47.839957)</td>\n",
       "      <td>208</td>\n",
       "    </tr>\n",
       "    <tr>\n",
       "      <th>4</th>\n",
       "      <td>Yakima</td>\n",
       "      <td>Yakima</td>\n",
       "      <td>Washington</td>\n",
       "      <td>1970</td>\n",
       "      <td>TOYOTA</td>\n",
       "      <td>RAV4 PRIME</td>\n",
       "      <td>PHEV</td>\n",
       "      <td>eligible</td>\n",
       "      <td>POINT (-120.611068 46.596645)</td>\n",
       "      <td>42</td>\n",
       "    </tr>\n",
       "    <tr>\n",
       "      <th>...</th>\n",
       "      <td>...</td>\n",
       "      <td>...</td>\n",
       "      <td>...</td>\n",
       "      <td>...</td>\n",
       "      <td>...</td>\n",
       "      <td>...</td>\n",
       "      <td>...</td>\n",
       "      <td>...</td>\n",
       "      <td>...</td>\n",
       "      <td>...</td>\n",
       "    </tr>\n",
       "    <tr>\n",
       "      <th>191402</th>\n",
       "      <td>Pierce</td>\n",
       "      <td>Sumner</td>\n",
       "      <td>Washington</td>\n",
       "      <td>1970</td>\n",
       "      <td>TESLA</td>\n",
       "      <td>MODEL 3</td>\n",
       "      <td>BEV</td>\n",
       "      <td>eligible</td>\n",
       "      <td>POINT (-122.2337855 47.2055969)</td>\n",
       "      <td>220</td>\n",
       "    </tr>\n",
       "    <tr>\n",
       "      <th>191403</th>\n",
       "      <td>Pierce</td>\n",
       "      <td>Wilkeson</td>\n",
       "      <td>Washington</td>\n",
       "      <td>1970</td>\n",
       "      <td>NISSAN</td>\n",
       "      <td>ARIYA</td>\n",
       "      <td>BEV</td>\n",
       "      <td>unknown</td>\n",
       "      <td>POINT (-122.0478543 47.1075591)</td>\n",
       "      <td>0</td>\n",
       "    </tr>\n",
       "    <tr>\n",
       "      <th>191404</th>\n",
       "      <td>King</td>\n",
       "      <td>Fall City</td>\n",
       "      <td>Washington</td>\n",
       "      <td>1970</td>\n",
       "      <td>TESLA</td>\n",
       "      <td>MODEL Y</td>\n",
       "      <td>BEV</td>\n",
       "      <td>unknown</td>\n",
       "      <td>POINT (-121.903093 47.567116)</td>\n",
       "      <td>0</td>\n",
       "    </tr>\n",
       "    <tr>\n",
       "      <th>191405</th>\n",
       "      <td>Grays Harbor</td>\n",
       "      <td>Aberdeen</td>\n",
       "      <td>Washington</td>\n",
       "      <td>1970</td>\n",
       "      <td>TESLA</td>\n",
       "      <td>MODEL X</td>\n",
       "      <td>BEV</td>\n",
       "      <td>unknown</td>\n",
       "      <td>POINT (-123.807422 46.978243)</td>\n",
       "      <td>0</td>\n",
       "    </tr>\n",
       "    <tr>\n",
       "      <th>191406</th>\n",
       "      <td>Benton</td>\n",
       "      <td>Richland</td>\n",
       "      <td>Washington</td>\n",
       "      <td>1970</td>\n",
       "      <td>TESLA</td>\n",
       "      <td>MODEL Y</td>\n",
       "      <td>BEV</td>\n",
       "      <td>unknown</td>\n",
       "      <td>POINT (-119.2958528 46.2421419)</td>\n",
       "      <td>0</td>\n",
       "    </tr>\n",
       "  </tbody>\n",
       "</table>\n",
       "<p>191407 rows × 10 columns</p>\n",
       "</div>"
      ],
      "text/plain": [
       "             country       city       state  model_year manufacturer  \\\n",
       "0               King    Seattle  Washington        1970        TESLA   \n",
       "1             Yakima     Zillah  Washington        1970          BMW   \n",
       "2               King       Kent  Washington        1970       NISSAN   \n",
       "3          Snohomish    Bothell  Washington        1970        TESLA   \n",
       "4             Yakima     Yakima  Washington        1970       TOYOTA   \n",
       "...              ...        ...         ...         ...          ...   \n",
       "191402        Pierce     Sumner  Washington        1970        TESLA   \n",
       "191403        Pierce   Wilkeson  Washington        1970       NISSAN   \n",
       "191404          King  Fall City  Washington        1970        TESLA   \n",
       "191405  Grays Harbor   Aberdeen  Washington        1970        TESLA   \n",
       "191406        Benton   Richland  Washington        1970        TESLA   \n",
       "\n",
       "             model electric_type clean_fuel_eligibility  \\\n",
       "0          MODEL S           BEV               eligible   \n",
       "1             330E          PHEV           not eligible   \n",
       "2             LEAF           BEV               eligible   \n",
       "3          MODEL S           BEV               eligible   \n",
       "4       RAV4 PRIME          PHEV               eligible   \n",
       "...            ...           ...                    ...   \n",
       "191402     MODEL 3           BEV               eligible   \n",
       "191403       ARIYA           BEV                unknown   \n",
       "191404     MODEL Y           BEV                unknown   \n",
       "191405     MODEL X           BEV                unknown   \n",
       "191406     MODEL Y           BEV                unknown   \n",
       "\n",
       "                       vehicle_location  electric_range  \n",
       "0         POINT (-122.300312 47.629782)             270  \n",
       "1       POINT (-120.2658133 46.4063477)              20  \n",
       "2         POINT (-122.201564 47.402358)              84  \n",
       "3         POINT (-122.206146 47.839957)             208  \n",
       "4         POINT (-120.611068 46.596645)              42  \n",
       "...                                 ...             ...  \n",
       "191402  POINT (-122.2337855 47.2055969)             220  \n",
       "191403  POINT (-122.0478543 47.1075591)               0  \n",
       "191404    POINT (-121.903093 47.567116)               0  \n",
       "191405    POINT (-123.807422 46.978243)               0  \n",
       "191406  POINT (-119.2958528 46.2421419)               0  \n",
       "\n",
       "[191407 rows x 10 columns]"
      ]
     },
     "execution_count": 676,
     "metadata": {},
     "output_type": "execute_result"
    }
   ],
   "source": [
    "vehicles_cleaned = clean_data(veichels)\n",
    "vehicles_cleaned"
   ]
  },
  {
   "cell_type": "markdown",
   "id": "18d62590-087f-4ecb-93b3-13dbaa3c5cdd",
   "metadata": {},
   "source": [
    "## Split the Data"
   ]
  },
  {
   "cell_type": "code",
   "execution_count": 695,
   "id": "10ece5e0-0371-4814-b355-2a5fb95356eb",
   "metadata": {},
   "outputs": [],
   "source": [
    "x = vehicles_cleaned.drop(columns = 'electric_range')  \n",
    "y = vehicles_cleaned.electric_range.copy()"
   ]
  },
  {
   "cell_type": "code",
   "execution_count": 703,
   "id": "bf5d588b-2eb7-471d-bcf6-616ef2ae823a",
   "metadata": {},
   "outputs": [],
   "source": [
    "X_,X_test,y_,y_test = train_test_split(x,y,test_size=.2,random_state=42)\n",
    "\n",
    "X_train,X_val,y_train,y_val = train_test_split(X_,y_,test_size=.2,random_state=42)"
   ]
  },
  {
   "cell_type": "code",
   "execution_count": 707,
   "id": "b372d8fb-a802-4c8b-8bb8-8f1eff3a0993",
   "metadata": {},
   "outputs": [
    {
     "name": "stdout",
     "output_type": "stream",
     "text": [
      "(122500, 9) (122500,)\n",
      "(38282, 9) (38282,)\n",
      "(30625, 9) (30625,)\n"
     ]
    }
   ],
   "source": [
    "print(X_train.shape,y_train.shape)\n",
    "print(X_test.shape,y_test.shape)\n",
    "print(X_val.shape,y_val.shape)"
   ]
  },
  {
   "cell_type": "markdown",
   "id": "ff3a4c0e-d732-4d9a-9163-f481158a57d3",
   "metadata": {},
   "source": [
    "## Export the data Subsets"
   ]
  },
  {
   "cell_type": "code",
   "execution_count": 714,
   "id": "a75a4758-fbb7-477f-b77c-89066ddbf743",
   "metadata": {},
   "outputs": [],
   "source": [
    "def export_data(x,y,name):\n",
    "    file_name = f\"{name}.csv\"\n",
    "    file_path = os.path.join(PROJECT_DIR,DATA_DIR,file_name)\n",
    "    x.join(y).to_csv(file_path,index=False)\n",
    "    return pd.read_csv(file_path).head()\n",
    "    "
   ]
  },
  {
   "cell_type": "code",
   "execution_count": 716,
   "id": "4032b54f-0f53-4915-98e0-1cbb621c9071",
   "metadata": {},
   "outputs": [
    {
     "data": {
      "text/html": [
       "<div>\n",
       "<style scoped>\n",
       "    .dataframe tbody tr th:only-of-type {\n",
       "        vertical-align: middle;\n",
       "    }\n",
       "\n",
       "    .dataframe tbody tr th {\n",
       "        vertical-align: top;\n",
       "    }\n",
       "\n",
       "    .dataframe thead th {\n",
       "        text-align: right;\n",
       "    }\n",
       "</style>\n",
       "<table border=\"1\" class=\"dataframe\">\n",
       "  <thead>\n",
       "    <tr style=\"text-align: right;\">\n",
       "      <th></th>\n",
       "      <th>country</th>\n",
       "      <th>city</th>\n",
       "      <th>state</th>\n",
       "      <th>model_year</th>\n",
       "      <th>manufacturer</th>\n",
       "      <th>model</th>\n",
       "      <th>electric_type</th>\n",
       "      <th>clean_fuel_eligibility</th>\n",
       "      <th>vehicle_location</th>\n",
       "      <th>electric_range</th>\n",
       "    </tr>\n",
       "  </thead>\n",
       "  <tbody>\n",
       "    <tr>\n",
       "      <th>0</th>\n",
       "      <td>Snohomish</td>\n",
       "      <td>Edmonds</td>\n",
       "      <td>Washington</td>\n",
       "      <td>1970</td>\n",
       "      <td>CHEVROLET</td>\n",
       "      <td>BOLT EUV</td>\n",
       "      <td>BEV</td>\n",
       "      <td>unknown</td>\n",
       "      <td>POINT (-122.3757836 47.800042)</td>\n",
       "      <td>0</td>\n",
       "    </tr>\n",
       "    <tr>\n",
       "      <th>1</th>\n",
       "      <td>King</td>\n",
       "      <td>Kirkland</td>\n",
       "      <td>Washington</td>\n",
       "      <td>1970</td>\n",
       "      <td>NISSAN</td>\n",
       "      <td>ARIYA</td>\n",
       "      <td>BEV</td>\n",
       "      <td>unknown</td>\n",
       "      <td>POINT (-122.2026532 47.7210518)</td>\n",
       "      <td>0</td>\n",
       "    </tr>\n",
       "    <tr>\n",
       "      <th>2</th>\n",
       "      <td>King</td>\n",
       "      <td>Kenmore</td>\n",
       "      <td>Washington</td>\n",
       "      <td>1970</td>\n",
       "      <td>TESLA</td>\n",
       "      <td>MODEL Y</td>\n",
       "      <td>BEV</td>\n",
       "      <td>unknown</td>\n",
       "      <td>POINT (-122.2478069 47.75817)</td>\n",
       "      <td>0</td>\n",
       "    </tr>\n",
       "    <tr>\n",
       "      <th>3</th>\n",
       "      <td>King</td>\n",
       "      <td>Sammamish</td>\n",
       "      <td>Washington</td>\n",
       "      <td>1970</td>\n",
       "      <td>TESLA</td>\n",
       "      <td>MODEL S</td>\n",
       "      <td>BEV</td>\n",
       "      <td>eligible</td>\n",
       "      <td>POINT (-122.0181135 47.5880568)</td>\n",
       "      <td>210</td>\n",
       "    </tr>\n",
       "    <tr>\n",
       "      <th>4</th>\n",
       "      <td>Pierce</td>\n",
       "      <td>Tacoma</td>\n",
       "      <td>Washington</td>\n",
       "      <td>1970</td>\n",
       "      <td>TESLA</td>\n",
       "      <td>MODEL Y</td>\n",
       "      <td>BEV</td>\n",
       "      <td>unknown</td>\n",
       "      <td>POINT (-122.48056 47.214139)</td>\n",
       "      <td>0</td>\n",
       "    </tr>\n",
       "  </tbody>\n",
       "</table>\n",
       "</div>"
      ],
      "text/plain": [
       "     country       city       state  model_year manufacturer     model  \\\n",
       "0  Snohomish    Edmonds  Washington        1970    CHEVROLET  BOLT EUV   \n",
       "1       King   Kirkland  Washington        1970       NISSAN     ARIYA   \n",
       "2       King    Kenmore  Washington        1970        TESLA   MODEL Y   \n",
       "3       King  Sammamish  Washington        1970        TESLA   MODEL S   \n",
       "4     Pierce     Tacoma  Washington        1970        TESLA   MODEL Y   \n",
       "\n",
       "  electric_type clean_fuel_eligibility                 vehicle_location  \\\n",
       "0           BEV                unknown   POINT (-122.3757836 47.800042)   \n",
       "1           BEV                unknown  POINT (-122.2026532 47.7210518)   \n",
       "2           BEV                unknown    POINT (-122.2478069 47.75817)   \n",
       "3           BEV               eligible  POINT (-122.0181135 47.5880568)   \n",
       "4           BEV                unknown     POINT (-122.48056 47.214139)   \n",
       "\n",
       "   electric_range  \n",
       "0               0  \n",
       "1               0  \n",
       "2               0  \n",
       "3             210  \n",
       "4               0  "
      ]
     },
     "execution_count": 716,
     "metadata": {},
     "output_type": "execute_result"
    }
   ],
   "source": [
    "export_data(X_train,y_train,'train')"
   ]
  },
  {
   "cell_type": "code",
   "execution_count": 718,
   "id": "268a0d4e-59a7-4aeb-88f0-5191e1086c3c",
   "metadata": {},
   "outputs": [
    {
     "data": {
      "text/html": [
       "<div>\n",
       "<style scoped>\n",
       "    .dataframe tbody tr th:only-of-type {\n",
       "        vertical-align: middle;\n",
       "    }\n",
       "\n",
       "    .dataframe tbody tr th {\n",
       "        vertical-align: top;\n",
       "    }\n",
       "\n",
       "    .dataframe thead th {\n",
       "        text-align: right;\n",
       "    }\n",
       "</style>\n",
       "<table border=\"1\" class=\"dataframe\">\n",
       "  <thead>\n",
       "    <tr style=\"text-align: right;\">\n",
       "      <th></th>\n",
       "      <th>country</th>\n",
       "      <th>city</th>\n",
       "      <th>state</th>\n",
       "      <th>model_year</th>\n",
       "      <th>manufacturer</th>\n",
       "      <th>model</th>\n",
       "      <th>electric_type</th>\n",
       "      <th>clean_fuel_eligibility</th>\n",
       "      <th>vehicle_location</th>\n",
       "      <th>electric_range</th>\n",
       "    </tr>\n",
       "  </thead>\n",
       "  <tbody>\n",
       "    <tr>\n",
       "      <th>0</th>\n",
       "      <td>Snohomish</td>\n",
       "      <td>Lynnwood</td>\n",
       "      <td>Washington</td>\n",
       "      <td>1970</td>\n",
       "      <td>VOLKSWAGEN</td>\n",
       "      <td>ID.4</td>\n",
       "      <td>BEV</td>\n",
       "      <td>unknown</td>\n",
       "      <td>POINT (-122.287143 47.812199)</td>\n",
       "      <td>0</td>\n",
       "    </tr>\n",
       "    <tr>\n",
       "      <th>1</th>\n",
       "      <td>King</td>\n",
       "      <td>Vashon</td>\n",
       "      <td>Washington</td>\n",
       "      <td>1970</td>\n",
       "      <td>NISSAN</td>\n",
       "      <td>LEAF</td>\n",
       "      <td>BEV</td>\n",
       "      <td>eligible</td>\n",
       "      <td>POINT (-122.466938 47.429244)</td>\n",
       "      <td>151</td>\n",
       "    </tr>\n",
       "    <tr>\n",
       "      <th>2</th>\n",
       "      <td>Snohomish</td>\n",
       "      <td>Lake Stevens</td>\n",
       "      <td>Washington</td>\n",
       "      <td>1970</td>\n",
       "      <td>VOLVO</td>\n",
       "      <td>C40</td>\n",
       "      <td>BEV</td>\n",
       "      <td>unknown</td>\n",
       "      <td>POINT (-122.0816912 48.0122934)</td>\n",
       "      <td>0</td>\n",
       "    </tr>\n",
       "    <tr>\n",
       "      <th>3</th>\n",
       "      <td>King</td>\n",
       "      <td>Renton</td>\n",
       "      <td>Washington</td>\n",
       "      <td>1970</td>\n",
       "      <td>HYUNDAI</td>\n",
       "      <td>IONIQ 5</td>\n",
       "      <td>BEV</td>\n",
       "      <td>unknown</td>\n",
       "      <td>POINT (-122.134502 47.492627)</td>\n",
       "      <td>0</td>\n",
       "    </tr>\n",
       "    <tr>\n",
       "      <th>4</th>\n",
       "      <td>Snohomish</td>\n",
       "      <td>Bothell</td>\n",
       "      <td>Washington</td>\n",
       "      <td>1970</td>\n",
       "      <td>TESLA</td>\n",
       "      <td>MODEL Y</td>\n",
       "      <td>BEV</td>\n",
       "      <td>unknown</td>\n",
       "      <td>POINT (-122.206146 47.839957)</td>\n",
       "      <td>0</td>\n",
       "    </tr>\n",
       "  </tbody>\n",
       "</table>\n",
       "</div>"
      ],
      "text/plain": [
       "     country          city       state  model_year manufacturer    model  \\\n",
       "0  Snohomish      Lynnwood  Washington        1970   VOLKSWAGEN     ID.4   \n",
       "1       King        Vashon  Washington        1970       NISSAN     LEAF   \n",
       "2  Snohomish  Lake Stevens  Washington        1970        VOLVO      C40   \n",
       "3       King        Renton  Washington        1970      HYUNDAI  IONIQ 5   \n",
       "4  Snohomish       Bothell  Washington        1970        TESLA  MODEL Y   \n",
       "\n",
       "  electric_type clean_fuel_eligibility                 vehicle_location  \\\n",
       "0           BEV                unknown    POINT (-122.287143 47.812199)   \n",
       "1           BEV               eligible    POINT (-122.466938 47.429244)   \n",
       "2           BEV                unknown  POINT (-122.0816912 48.0122934)   \n",
       "3           BEV                unknown    POINT (-122.134502 47.492627)   \n",
       "4           BEV                unknown    POINT (-122.206146 47.839957)   \n",
       "\n",
       "   electric_range  \n",
       "0               0  \n",
       "1             151  \n",
       "2               0  \n",
       "3               0  \n",
       "4               0  "
      ]
     },
     "execution_count": 718,
     "metadata": {},
     "output_type": "execute_result"
    }
   ],
   "source": [
    "export_data(X_test,y_test,'test')"
   ]
  },
  {
   "cell_type": "code",
   "execution_count": 720,
   "id": "976940c8-c8a4-4dc1-a6a7-f93724cf20ab",
   "metadata": {},
   "outputs": [
    {
     "data": {
      "text/html": [
       "<div>\n",
       "<style scoped>\n",
       "    .dataframe tbody tr th:only-of-type {\n",
       "        vertical-align: middle;\n",
       "    }\n",
       "\n",
       "    .dataframe tbody tr th {\n",
       "        vertical-align: top;\n",
       "    }\n",
       "\n",
       "    .dataframe thead th {\n",
       "        text-align: right;\n",
       "    }\n",
       "</style>\n",
       "<table border=\"1\" class=\"dataframe\">\n",
       "  <thead>\n",
       "    <tr style=\"text-align: right;\">\n",
       "      <th></th>\n",
       "      <th>country</th>\n",
       "      <th>city</th>\n",
       "      <th>state</th>\n",
       "      <th>model_year</th>\n",
       "      <th>manufacturer</th>\n",
       "      <th>model</th>\n",
       "      <th>electric_type</th>\n",
       "      <th>clean_fuel_eligibility</th>\n",
       "      <th>vehicle_location</th>\n",
       "      <th>electric_range</th>\n",
       "    </tr>\n",
       "  </thead>\n",
       "  <tbody>\n",
       "    <tr>\n",
       "      <th>0</th>\n",
       "      <td>King</td>\n",
       "      <td>Kirkland</td>\n",
       "      <td>Washington</td>\n",
       "      <td>1970</td>\n",
       "      <td>TESLA</td>\n",
       "      <td>MODEL Y</td>\n",
       "      <td>BEV</td>\n",
       "      <td>unknown</td>\n",
       "      <td>POINT (-122.1925969 47.676241)</td>\n",
       "      <td>0</td>\n",
       "    </tr>\n",
       "    <tr>\n",
       "      <th>1</th>\n",
       "      <td>King</td>\n",
       "      <td>Seattle</td>\n",
       "      <td>Washington</td>\n",
       "      <td>1970</td>\n",
       "      <td>FIAT</td>\n",
       "      <td>500</td>\n",
       "      <td>BEV</td>\n",
       "      <td>eligible</td>\n",
       "      <td>POINT (-122.2753318 47.5411053)</td>\n",
       "      <td>84</td>\n",
       "    </tr>\n",
       "    <tr>\n",
       "      <th>2</th>\n",
       "      <td>Whatcom</td>\n",
       "      <td>Bellingham</td>\n",
       "      <td>Washington</td>\n",
       "      <td>1970</td>\n",
       "      <td>TESLA</td>\n",
       "      <td>MODEL S</td>\n",
       "      <td>BEV</td>\n",
       "      <td>eligible</td>\n",
       "      <td>POINT (-122.464218 48.79135)</td>\n",
       "      <td>330</td>\n",
       "    </tr>\n",
       "    <tr>\n",
       "      <th>3</th>\n",
       "      <td>King</td>\n",
       "      <td>Kirkland</td>\n",
       "      <td>Washington</td>\n",
       "      <td>1970</td>\n",
       "      <td>NISSAN</td>\n",
       "      <td>LEAF</td>\n",
       "      <td>BEV</td>\n",
       "      <td>eligible</td>\n",
       "      <td>POINT (-122.2026532 47.7210518)</td>\n",
       "      <td>107</td>\n",
       "    </tr>\n",
       "    <tr>\n",
       "      <th>4</th>\n",
       "      <td>King</td>\n",
       "      <td>Kent</td>\n",
       "      <td>Washington</td>\n",
       "      <td>1970</td>\n",
       "      <td>TESLA</td>\n",
       "      <td>MODEL 3</td>\n",
       "      <td>BEV</td>\n",
       "      <td>unknown</td>\n",
       "      <td>POINT (-122.2612577 47.3821912)</td>\n",
       "      <td>0</td>\n",
       "    </tr>\n",
       "  </tbody>\n",
       "</table>\n",
       "</div>"
      ],
      "text/plain": [
       "   country        city       state  model_year manufacturer    model  \\\n",
       "0     King    Kirkland  Washington        1970        TESLA  MODEL Y   \n",
       "1     King     Seattle  Washington        1970         FIAT      500   \n",
       "2  Whatcom  Bellingham  Washington        1970        TESLA  MODEL S   \n",
       "3     King    Kirkland  Washington        1970       NISSAN     LEAF   \n",
       "4     King        Kent  Washington        1970        TESLA  MODEL 3   \n",
       "\n",
       "  electric_type clean_fuel_eligibility                 vehicle_location  \\\n",
       "0           BEV                unknown   POINT (-122.1925969 47.676241)   \n",
       "1           BEV               eligible  POINT (-122.2753318 47.5411053)   \n",
       "2           BEV               eligible     POINT (-122.464218 48.79135)   \n",
       "3           BEV               eligible  POINT (-122.2026532 47.7210518)   \n",
       "4           BEV                unknown  POINT (-122.2612577 47.3821912)   \n",
       "\n",
       "   electric_range  \n",
       "0               0  \n",
       "1              84  \n",
       "2             330  \n",
       "3             107  \n",
       "4               0  "
      ]
     },
     "execution_count": 720,
     "metadata": {},
     "output_type": "execute_result"
    }
   ],
   "source": [
    "export_data(X_val,y_val,'val')"
   ]
  }
 ],
 "metadata": {
  "kernelspec": {
   "display_name": "Python 3 (ipykernel)",
   "language": "python",
   "name": "python3"
  },
  "language_info": {
   "codemirror_mode": {
    "name": "ipython",
    "version": 3
   },
   "file_extension": ".py",
   "mimetype": "text/x-python",
   "name": "python",
   "nbconvert_exporter": "python",
   "pygments_lexer": "ipython3",
   "version": "3.12.4"
  }
 },
 "nbformat": 4,
 "nbformat_minor": 5
}
